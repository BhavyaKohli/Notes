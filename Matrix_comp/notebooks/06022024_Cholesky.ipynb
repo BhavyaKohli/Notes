{
 "cells": [
  {
   "cell_type": "code",
   "execution_count": 1,
   "metadata": {},
   "outputs": [
    {
     "data": {
      "text/plain": [
       "5×5 Matrix{Float64}:\n",
       "  25.0    0.0   45.0   10.0  -50.0\n",
       "   0.0    4.0  -14.0    8.0   -8.0\n",
       "  45.0  -14.0  134.0   -4.0  -82.0\n",
       "  10.0    8.0   -4.0   38.0  -93.0\n",
       " -50.0   -8.0  -82.0  -93.0  301.0"
      ]
     },
     "metadata": {},
     "output_type": "display_data"
    },
    {
     "data": {
      "text/plain": [
       "1×5 adjoint(::Vector{Int64}) with eltype Int64:\n",
       " 3  2  6  8  5"
      ]
     },
     "metadata": {},
     "output_type": "display_data"
    },
    {
     "data": {
      "text/plain": [
       "1×5 adjoint(::Vector{Float64}) with eltype Float64:\n",
       " 175.0  -52.0  469.0  -139.0  103.0"
      ]
     },
     "metadata": {},
     "output_type": "display_data"
    }
   ],
   "source": [
    "using LinearAlgebra\n",
    "using Random\n",
    "rng = MersenneTwister(5);\n",
    "\n",
    "Random.seed!(rng, 69)\n",
    "\n",
    "n = 5;\n",
    "\n",
    "G = zeros(Float64,n,n)\n",
    "    for i=1:n    \n",
    "    G[i,i] = rand(rng, 1:5)                 # positive diagonals\n",
    "    G[i+1:n, i] = rand(rng, -10:10, n-i)    # G is lower triangular\n",
    "end\n",
    "\n",
    "A = G * G'\n",
    "display(A)\n",
    "\n",
    "for eigval in eigvals(A)\n",
    "    @assert eigval > 0\n",
    "end\n",
    "\n",
    "x_orig = rand(rng, 0:10, n)\n",
    "b = A * x_orig\n",
    "display(x_orig')\n",
    "display(b')"
   ]
  },
  {
   "cell_type": "code",
   "execution_count": 2,
   "metadata": {},
   "outputs": [],
   "source": [
    "# Cholesky decomposition, num flops = 1/3 n^3 (classic LU is 2/3 n^3, LU with pivoting is n^3)\n",
    "\n",
    "function solve_cholesky(A)\n",
    "    n = size(A, 1)\n",
    "    for j=1:n\n",
    "        for k=1:j-1\n",
    "            for i=j:n\n",
    "                A[i,j] = A[i,j] - A[i,k] * A[j,k]\n",
    "            end\n",
    "        end\n",
    "\n",
    "        sqrt_ajj = sqrt(A[j,j])\n",
    "\n",
    "        for i=j:n\n",
    "            A[i,j] /= sqrt_ajj\n",
    "        end\n",
    "    end    \n",
    "    return A\n",
    "end\n",
    ";"
   ]
  },
  {
   "cell_type": "code",
   "execution_count": 3,
   "metadata": {},
   "outputs": [],
   "source": [
    "A_fact = solve_cholesky(A)\n",
    "\n",
    "L = tril(A_fact)\n",
    "@assert norm(L - G) == 0"
   ]
  },
  {
   "cell_type": "code",
   "execution_count": 4,
   "metadata": {},
   "outputs": [],
   "source": [
    "# function to solve for x, using cholesky factorized A\n",
    "\n",
    "function solve(A_fact, b)\n",
    "    x = copy(b)\n",
    "    \n",
    "    # Solve using matrix G\n",
    "    for j=1:n\n",
    "        x[j] /= A_fact[j,j]\n",
    "        for i=j+1:n\n",
    "            x[i] -= A_fact[i,j] * x[j]\n",
    "        end\n",
    "    end\n",
    "    \n",
    "    # Solve using matrix G^T\n",
    "    for i=n:-1:1\n",
    "        for j=i+1:n\n",
    "            x[i] -= A_fact[j,i] * x[j]\n",
    "        end\n",
    "        x[i] /= A_fact[i,i]\n",
    "    end\n",
    "    return x\n",
    "end\n",
    "\n",
    "x_sol = solve(A_fact, b)\n",
    "@assert norm(x_sol - x_orig) == 0"
   ]
  },
  {
   "cell_type": "markdown",
   "metadata": {},
   "source": [
    "# Speed Comparison"
   ]
  },
  {
   "cell_type": "code",
   "execution_count": 5,
   "metadata": {},
   "outputs": [],
   "source": [
    "# previous LU factorization code\n",
    "\n",
    "function solve_col(A)\n",
    "    n = size(A,1)\n",
    "\n",
    "    for k=1:n\n",
    "        @assert A[k,k] != 0\n",
    "        for j=k+1:n\n",
    "            for i=k+1:n\n",
    "                A[i,k] /= A[k,k]\n",
    "                A[i,j] -= A[i,k] * A[k,j]\n",
    "            end\n",
    "        end\n",
    "    end\n",
    "    return A\n",
    "end\n",
    ";"
   ]
  },
  {
   "cell_type": "code",
   "execution_count": 6,
   "metadata": {},
   "outputs": [],
   "source": [
    "using LinearAlgebra\n",
    "using Random\n",
    "rng = MersenneTwister(5);\n",
    "\n",
    "Random.seed!(rng, 69)\n",
    "\n",
    "n = 500;\n",
    "\n",
    "G = zeros(Float64,n,n)\n",
    "for i=1:n    \n",
    "    G[i,i] = rand(rng, 1:5)                 # positive diagonals\n",
    "    G[i+1:n, i] = rand(rng, -10:10, n-i)    # G is lower triangular\n",
    "end\n",
    "\n",
    "A = G * G'\n",
    "A_orig = copy(A)\n",
    ";"
   ]
  },
  {
   "cell_type": "code",
   "execution_count": 8,
   "metadata": {},
   "outputs": [
    {
     "name": "stdout",
     "output_type": "stream",
     "text": [
      "  0.029877 seconds\n",
      "  0.160735 seconds\n"
     ]
    }
   ],
   "source": [
    "A = copy(A_orig)\n",
    "@time solve_cholesky(A)\n",
    "A = copy(A_orig)\n",
    "@time solve_col(A)\n",
    ";"
   ]
  }
 ],
 "metadata": {
  "kernelspec": {
   "display_name": "Julia 1.10.0",
   "language": "julia",
   "name": "julia-1.10"
  },
  "language_info": {
   "file_extension": ".jl",
   "mimetype": "application/julia",
   "name": "julia",
   "version": "1.10.0"
  }
 },
 "nbformat": 4,
 "nbformat_minor": 2
}
