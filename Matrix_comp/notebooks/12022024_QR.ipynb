{
 "cells": [
  {
   "cell_type": "code",
   "execution_count": 1,
   "metadata": {},
   "outputs": [],
   "source": [
    "using LinearAlgebra"
   ]
  },
  {
   "cell_type": "code",
   "execution_count": 2,
   "metadata": {},
   "outputs": [
    {
     "data": {
      "text/plain": [
       "house (generic function with 1 method)"
      ]
     },
     "metadata": {},
     "output_type": "display_data"
    }
   ],
   "source": [
    "function house(x)\n",
    "    sigma = dot(x[2:end], x[2:end])\n",
    "    v = copy(x)\n",
    "\n",
    "    if sigma == 0\n",
    "        beta = 0\n",
    "        return beta, v\n",
    "    end\n",
    "\n",
    "    sq = sqrt(x[1]^2 + sigma)\n",
    "    if x[1] > 0\n",
    "        v[1] += sq      # reflect to positive x axis\n",
    "    else\n",
    "        v[1] -= sq      # reflect to negative x axis\n",
    "    end\n",
    "\n",
    "    beta = 2.0 * v[1]^2 / (v[1]^2 + sigma)\n",
    "    v1 = v[1]\n",
    "\n",
    "    for i=1:length(v)\n",
    "        v[i] /= v1\n",
    "    end\n",
    "    # display(v)\n",
    "        \n",
    "    return beta, transpose(v)   # get column vector v\n",
    "end"
   ]
  },
  {
   "cell_type": "code",
   "execution_count": 3,
   "metadata": {},
   "outputs": [],
   "source": [
    "x = [-10.0 5.0]\n",
    "\n",
    "beta, v = house(x)\n",
    ";"
   ]
  },
  {
   "cell_type": "code",
   "execution_count": 4,
   "metadata": {},
   "outputs": [
    {
     "name": "stdout",
     "output_type": "stream",
     "text": [
      "v' = [1.0 -0.2360679774997897]\n"
     ]
    },
    {
     "name": "stdout",
     "output_type": "stream",
     "text": [
      "reflected_x' = [11.180339887498949 -3.3306690738754696e-16]\n"
     ]
    }
   ],
   "source": [
    "reflected_x = (Matrix(I, 2, 2) - beta * (v * transpose(v))) * x'\n",
    "\n",
    "@show v'\n",
    "@show reflected_x'\n",
    ";"
   ]
  },
  {
   "cell_type": "code",
   "execution_count": 5,
   "metadata": {},
   "outputs": [
    {
     "data": {
      "text/plain": [
       "givens (generic function with 1 method)"
      ]
     },
     "metadata": {},
     "output_type": "display_data"
    }
   ],
   "source": [
    "function givens(a, b)\n",
    "    if b == 0\n",
    "        c = 1\n",
    "        s = 0\n",
    "    else\n",
    "        if abs(b) > abs(a)\n",
    "            tau = -a / b\n",
    "            s = 1.0 / sqrt(1.0 + tau*tau)\n",
    "            c = s*tau\n",
    "        else\n",
    "            tau = -b/a\n",
    "            c = 1.0 / sqrt(1.0 + tau*tau)\n",
    "            s = c*tau\n",
    "        end\n",
    "    end\n",
    "    return (c, s)\n",
    "end"
   ]
  },
  {
   "cell_type": "markdown",
   "metadata": {},
   "source": [
    "# Using householder"
   ]
  },
  {
   "cell_type": "code",
   "execution_count": 6,
   "metadata": {},
   "outputs": [
    {
     "data": {
      "text/plain": [
       "10×5 Matrix{Float64}:\n",
       "   9.0    3.0   3.0  -8.0   -1.0\n",
       "   0.0  -10.0  -8.0  -3.0    4.0\n",
       "   9.0    1.0  -2.0   4.0    4.0\n",
       "   2.0   -9.0  -9.0   8.0   -2.0\n",
       " -10.0   -3.0  -6.0  -2.0  -10.0\n",
       "  -5.0   -5.0  10.0  -2.0  -10.0\n",
       "  -7.0   -6.0   1.0   4.0    3.0\n",
       "   4.0    1.0  -9.0  -9.0   -8.0\n",
       "  -4.0    5.0  10.0  -9.0   -4.0\n",
       "  -2.0    0.0   6.0  -8.0   -3.0"
      ]
     },
     "metadata": {},
     "output_type": "display_data"
    }
   ],
   "source": [
    "using LinearAlgebra\n",
    "using Random\n",
    "rng = MersenneTwister(5)\n",
    "\n",
    "Random.seed!(rng, 69)\n",
    "\n",
    "m, n = 10, 5\n",
    "A = Float64.(rand(rng, -10:10, m, n))"
   ]
  },
  {
   "cell_type": "code",
   "execution_count": 7,
   "metadata": {},
   "outputs": [
    {
     "data": {
      "text/plain": [
       "factorize_QR_house (generic function with 1 method)"
      ]
     },
     "metadata": {},
     "output_type": "display_data"
    }
   ],
   "source": [
    "function factorize_QR_house(A)\n",
    "    m, n = size(A)\n",
    "    A_out = copy(A)\n",
    "\n",
    "    for j=1:n\n",
    "        vTA = zeros(n)      # stores beta * vT * A\n",
    "        beta, v = house(A[j:end, j]) \n",
    "        # v is of shape (m-j+1 x 1), same as the lower jth column of A\n",
    "\n",
    "        for k=j:n       # row indices of A, starts from diagonal element\n",
    "            for i=j:m   \n",
    "                vTA[k] += v[i-j+1] * A[i,k]\n",
    "            end\n",
    "            vTA[k] *= beta\n",
    "        end\n",
    "\n",
    "        for k=j:n\n",
    "            for i=j:m\n",
    "                A[i,k] -= v[i-j+1] * vTA[k]\n",
    "            end\n",
    "        end\n",
    "        \n",
    "        display(j)\n",
    "        display(round.(A, digits=10))\n",
    "        display(v)\n",
    "        A_out[j+1:end, j] = v[2:end]\n",
    "    end\n",
    "\n",
    "    return A_out\n",
    "end"
   ]
  },
  {
   "cell_type": "code",
   "execution_count": 8,
   "metadata": {},
   "outputs": [
    {
     "data": {
      "text/plain": [
       "1"
      ]
     },
     "metadata": {},
     "output_type": "display_data"
    },
    {
     "data": {
      "text/plain": [
       "10×5 Matrix{Float64}:\n",
       " -19.3907   -5.10554    4.84768     0.103142  -7.32309\n",
       "   0.0     -10.0       -8.0        -3.0        4.0\n",
       "   0.0      -1.5695    -1.41428     6.56874    1.99555\n",
       "   0.0      -9.571     -8.86984     8.57083   -2.44543\n",
       "  -0.0      -0.145005  -6.6508     -4.85415   -7.77283\n",
       "  -0.0      -3.5725     9.6746     -3.42708   -8.88642\n",
       "  -0.0      -4.0015     0.544437    2.00209    4.55902\n",
       "   0.0      -0.141998  -8.73968    -7.85834   -8.89087\n",
       "   0.0       6.142      9.73968   -10.1417    -3.10913\n",
       "   0.0       0.570999   5.86984    -8.57083   -2.55457"
      ]
     },
     "metadata": {},
     "output_type": "display_data"
    },
    {
     "data": {
      "text/plain": [
       "1×10 transpose(::Vector{Float64}) with eltype Float64:\n",
       " 1.0  0.0  0.317005  0.0704456  -0.352228  …  0.140891  -0.140891  -0.0704456"
      ]
     },
     "metadata": {},
     "output_type": "display_data"
    },
    {
     "data": {
      "text/plain": [
       "2"
      ]
     },
     "metadata": {},
     "output_type": "display_data"
    },
    {
     "data": {
      "text/plain": [
       "10×5 Matrix{Float64}:\n",
       " -19.3907  -5.10554   4.84768    0.103142  -7.32309\n",
       "   0.0     16.1534   12.1182    -7.64379   -1.50979\n",
       "   0.0      0.0      -0.206964   6.29006    1.6649\n",
       "   0.0      0.0      -1.50748    6.87141   -4.46177\n",
       "  -0.0      0.0      -6.53926   -4.8799    -7.80338\n",
       "  -0.0      0.0      12.4227    -4.06141   -9.63904\n",
       "  -0.0      0.0       3.62254    1.29159    3.71601\n",
       "   0.0      0.0      -8.63045   -7.88355   -8.92078\n",
       "   0.0      0.0       5.01503   -9.05109   -1.81519\n",
       "   0.0      0.0       5.43061   -8.46944   -2.43427"
      ]
     },
     "metadata": {},
     "output_type": "display_data"
    },
    {
     "data": {
      "text/plain": [
       "1×9 transpose(::Vector{Float64}) with eltype Float64:\n",
       " 1.0  0.060011  0.365956  0.00554441  …  0.00542941  -0.234845  -0.0218327"
      ]
     },
     "metadata": {},
     "output_type": "display_data"
    },
    {
     "data": {
      "text/plain": [
       "3"
      ]
     },
     "metadata": {},
     "output_type": "display_data"
    },
    {
     "data": {
      "text/plain": [
       "10×5 Matrix{Float64}:\n",
       " -19.3907  -5.10554   4.84768    0.103142  -7.32309\n",
       "   0.0     16.1534   12.1182    -7.64379   -1.50979\n",
       "   0.0      0.0      18.4838    -2.64401    0.313566\n",
       "   0.0      0.0      -0.0        6.15084   -4.57076\n",
       "  -0.0      0.0      -0.0       -8.00563   -8.27617\n",
       "  -0.0      0.0       0.0        1.87657   -8.74088\n",
       "  -0.0      0.0       0.0        3.02314    3.97792\n",
       "   0.0      0.0      -0.0      -12.0089    -9.54476\n",
       "   0.0      0.0       0.0       -6.65393   -1.4526\n",
       "   0.0      0.0       0.0       -5.87364   -2.04164"
      ]
     },
     "metadata": {},
     "output_type": "display_data"
    },
    {
     "data": {
      "text/plain": [
       "1×8 transpose(::Vector{Float64}) with eltype Float64:\n",
       " 1.0  0.080654  0.349866  -0.664644  -0.193815  0.46175  -0.268316  -0.290551"
      ]
     },
     "metadata": {},
     "output_type": "display_data"
    },
    {
     "data": {
      "text/plain": [
       "4"
      ]
     },
     "metadata": {},
     "output_type": "display_data"
    },
    {
     "data": {
      "text/plain": [
       "10×5 Matrix{Float64}:\n",
       " -19.3907  -5.10554   4.84768    0.103142  -7.32309\n",
       "   0.0     16.1534   12.1182    -7.64379   -1.50979\n",
       "   0.0      0.0      18.4838    -2.64401    0.313566\n",
       "   0.0      0.0      -0.0      -18.3731    -9.25504\n",
       "  -0.0      0.0      -0.0        0.0       -6.74702\n",
       "  -0.0      0.0       0.0       -0.0       -9.09933\n",
       "  -0.0      0.0       0.0        0.0        3.40048\n",
       "   0.0      0.0      -0.0        0.0       -7.25097\n",
       "   0.0      0.0       0.0        0.0       -0.181645\n",
       "   0.0      0.0       0.0        0.0       -0.919727"
      ]
     },
     "metadata": {},
     "output_type": "display_data"
    },
    {
     "data": {
      "text/plain": [
       "1×7 transpose(::Vector{Float64}) with eltype Float64:\n",
       " 1.0  -0.326441  0.07652  0.123273  -0.489679  -0.271324  -0.239506"
      ]
     },
     "metadata": {},
     "output_type": "display_data"
    },
    {
     "data": {
      "text/plain": [
       "5"
      ]
     },
     "metadata": {},
     "output_type": "display_data"
    },
    {
     "data": {
      "text/plain": [
       "10×5 Matrix{Float64}:\n",
       " -19.3907  -5.10554   4.84768    0.103142  -7.32309\n",
       "   0.0     16.1534   12.1182    -7.64379   -1.50979\n",
       "   0.0      0.0      18.4838    -2.64401    0.313566\n",
       "   0.0      0.0      -0.0      -18.3731    -9.25504\n",
       "  -0.0      0.0      -0.0        0.0       13.9046\n",
       "  -0.0      0.0       0.0       -0.0        0.0\n",
       "  -0.0      0.0       0.0        0.0        0.0\n",
       "   0.0      0.0      -0.0        0.0       -0.0\n",
       "   0.0      0.0       0.0        0.0        0.0\n",
       "   0.0      0.0       0.0        0.0        0.0"
      ]
     },
     "metadata": {},
     "output_type": "display_data"
    },
    {
     "data": {
      "text/plain": [
       "1×6 transpose(::Vector{Float64}) with eltype Float64:\n",
       " 1.0  0.44061  -0.164659  0.351108  0.00879568  0.0445353"
      ]
     },
     "metadata": {},
     "output_type": "display_data"
    }
   ],
   "source": [
    "Aprime = factorize_QR_house(A)\n",
    ";"
   ]
  },
  {
   "cell_type": "markdown",
   "metadata": {},
   "source": [
    "# Using givens"
   ]
  },
  {
   "cell_type": "code",
   "execution_count": 9,
   "metadata": {},
   "outputs": [
    {
     "data": {
      "text/plain": [
       "10×5 Matrix{Float64}:\n",
       " -5.0  -3.0  8.0   -9.0   1.0\n",
       " -6.0  -7.0  6.0   -9.0  -8.0\n",
       "  0.0   8.0  2.0  -10.0   0.0\n",
       "  0.0   0.0  1.0  -10.0   1.0\n",
       "  0.0   0.0  0.0    4.0  10.0\n",
       "  0.0   0.0  0.0    0.0  -3.0\n",
       "  0.0   0.0  0.0    0.0   0.0\n",
       "  0.0   0.0  0.0    0.0   0.0\n",
       "  0.0   0.0  0.0    0.0   0.0\n",
       "  0.0   0.0  0.0    0.0   0.0"
      ]
     },
     "metadata": {},
     "output_type": "display_data"
    }
   ],
   "source": [
    "using LinearAlgebra\n",
    "using Random\n",
    "rng = MersenneTwister(5)\n",
    "\n",
    "Random.seed!(rng, 68)\n",
    "\n",
    "m, n = 10, 5\n",
    "A = triu(Float64.(rand(rng, -10:10, m, n)), -1)"
   ]
  },
  {
   "cell_type": "code",
   "execution_count": 10,
   "metadata": {},
   "outputs": [
    {
     "data": {
      "text/plain": [
       "factorize_QR_givens (generic function with 1 method)"
      ]
     },
     "metadata": {},
     "output_type": "display_data"
    }
   ],
   "source": [
    "function factorize_QR_givens(A)\n",
    "    for j=1:n\n",
    "        c, s = givens(A[j,j], A[j+1,j])\n",
    "\n",
    "        for k=j:n\n",
    "            A[j,k], A[j+1,k] = c * A[j,k] - s * A[j+1,k], s * A[j,k] + c * A[j+1,k]\n",
    "        end\n",
    "        display(j)\n",
    "        display(round.(A, digits=10))\n",
    "    end\n",
    "end"
   ]
  },
  {
   "cell_type": "code",
   "execution_count": 11,
   "metadata": {},
   "outputs": [
    {
     "data": {
      "text/plain": [
       "1"
      ]
     },
     "metadata": {},
     "output_type": "display_data"
    },
    {
     "data": {
      "text/plain": [
       "10×5 Matrix{Float64}:\n",
       " 7.81025  7.2981   -9.7308    12.6757    5.50559\n",
       " 0.0      2.17663   2.30466   -1.15233   5.8897\n",
       " 0.0      8.0       2.0      -10.0       0.0\n",
       " 0.0      0.0       1.0      -10.0       1.0\n",
       " 0.0      0.0       0.0        4.0      10.0\n",
       " 0.0      0.0       0.0        0.0      -3.0\n",
       " 0.0      0.0       0.0        0.0       0.0\n",
       " 0.0      0.0       0.0        0.0       0.0\n",
       " 0.0      0.0       0.0        0.0       0.0\n",
       " 0.0      0.0       0.0        0.0       0.0"
      ]
     },
     "metadata": {},
     "output_type": "display_data"
    },
    {
     "data": {
      "text/plain": [
       "2"
      ]
     },
     "metadata": {},
     "output_type": "display_data"
    },
    {
     "data": {
      "text/plain": [
       "10×5 Matrix{Float64}:\n",
       " 7.81025   7.2981   -9.7308    12.6757    5.50559\n",
       " 0.0      -8.29082  -2.5349     9.95175  -1.54625\n",
       " 0.0       0.0       1.69875    1.51343   5.6831\n",
       " 0.0       0.0       1.0      -10.0       1.0\n",
       " 0.0       0.0       0.0        4.0      10.0\n",
       " 0.0       0.0       0.0        0.0      -3.0\n",
       " 0.0       0.0       0.0        0.0       0.0\n",
       " 0.0       0.0       0.0        0.0       0.0\n",
       " 0.0       0.0       0.0        0.0       0.0\n",
       " 0.0       0.0       0.0        0.0       0.0"
      ]
     },
     "metadata": {},
     "output_type": "display_data"
    },
    {
     "data": {
      "text/plain": [
       "3"
      ]
     },
     "metadata": {},
     "output_type": "display_data"
    },
    {
     "data": {
      "text/plain": [
       "10×5 Matrix{Float64}:\n",
       " 7.81025   7.2981   -9.7308   12.6757    5.50559\n",
       " 0.0      -8.29082  -2.5349    9.95175  -1.54625\n",
       " 0.0       0.0       1.97123  -3.76873   5.40483\n",
       " 0.0       0.0      -0.0      -9.38548  -2.02125\n",
       " 0.0       0.0       0.0       4.0      10.0\n",
       " 0.0       0.0       0.0       0.0      -3.0\n",
       " 0.0       0.0       0.0       0.0       0.0\n",
       " 0.0       0.0       0.0       0.0       0.0\n",
       " 0.0       0.0       0.0       0.0       0.0\n",
       " 0.0       0.0       0.0       0.0       0.0"
      ]
     },
     "metadata": {},
     "output_type": "display_data"
    },
    {
     "data": {
      "text/plain": [
       "4"
      ]
     },
     "metadata": {},
     "output_type": "display_data"
    },
    {
     "data": {
      "text/plain": [
       "10×5 Matrix{Float64}:\n",
       " 7.81025   7.2981   -9.7308    12.6757    5.50559\n",
       " 0.0      -8.29082  -2.5349     9.95175  -1.54625\n",
       " 0.0       0.0       1.97123   -3.76873   5.40483\n",
       " 0.0       0.0      -0.0      -10.2023   -5.7801\n",
       " 0.0       0.0       0.0        0.0       8.4069\n",
       " 0.0       0.0       0.0        0.0      -3.0\n",
       " 0.0       0.0       0.0        0.0       0.0\n",
       " 0.0       0.0       0.0        0.0       0.0\n",
       " 0.0       0.0       0.0        0.0       0.0\n",
       " 0.0       0.0       0.0        0.0       0.0"
      ]
     },
     "metadata": {},
     "output_type": "display_data"
    },
    {
     "data": {
      "text/plain": [
       "5"
      ]
     },
     "metadata": {},
     "output_type": "display_data"
    },
    {
     "data": {
      "text/plain": [
       "10×5 Matrix{Float64}:\n",
       " 7.81025   7.2981   -9.7308    12.6757    5.50559\n",
       " 0.0      -8.29082  -2.5349     9.95175  -1.54625\n",
       " 0.0       0.0       1.97123   -3.76873   5.40483\n",
       " 0.0       0.0      -0.0      -10.2023   -5.7801\n",
       " 0.0       0.0       0.0        0.0       8.92614\n",
       " 0.0       0.0       0.0        0.0      -0.0\n",
       " 0.0       0.0       0.0        0.0       0.0\n",
       " 0.0       0.0       0.0        0.0       0.0\n",
       " 0.0       0.0       0.0        0.0       0.0\n",
       " 0.0       0.0       0.0        0.0       0.0"
      ]
     },
     "metadata": {},
     "output_type": "display_data"
    }
   ],
   "source": [
    "factorize_QR_givens(A)"
   ]
  }
 ],
 "metadata": {
  "kernelspec": {
   "display_name": "Julia 1.10.0",
   "language": "julia",
   "name": "julia-1.10"
  },
  "language_info": {
   "file_extension": ".jl",
   "mimetype": "application/julia",
   "name": "julia",
   "version": "1.10.0"
  }
 },
 "nbformat": 4,
 "nbformat_minor": 2
}
