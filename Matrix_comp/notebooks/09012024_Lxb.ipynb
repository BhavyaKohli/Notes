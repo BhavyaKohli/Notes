{
 "cells": [
  {
   "cell_type": "code",
   "execution_count": 1,
   "metadata": {},
   "outputs": [
    {
     "data": {
      "text/plain": [
       "3×3 Matrix{Float64}:\n",
       " 2.20418  0.0      0.0\n",
       " 1.35066  2.83387  0.0\n",
       " 1.64259  3.1471   3.77612"
      ]
     },
     "metadata": {},
     "output_type": "display_data"
    },
    {
     "data": {
      "text/plain": [
       "3×1 Matrix{Float64}:\n",
       " 3.29983\n",
       " 3.67688\n",
       " 1.12719"
      ]
     },
     "metadata": {},
     "output_type": "display_data"
    }
   ],
   "source": [
    "using Random\n",
    "Random.seed!(10)\n",
    "\n",
    "function GenerateLowerTriangular(n)\n",
    "    L = rand(1:1e-5:5, (n,n))\n",
    "    for i=1:n\n",
    "        for j=i+1:n\n",
    "            L[i,j] = 0\n",
    "        end\n",
    "    end\n",
    "    return L\n",
    "end\n",
    "\n",
    "n = 3\n",
    "L = GenerateLowerTriangular(n)\n",
    "b = rand(1:1e-5:5, (n,1))\n",
    "display(L)\n",
    "display(b)"
   ]
  },
  {
   "cell_type": "code",
   "execution_count": 2,
   "metadata": {},
   "outputs": [],
   "source": [
    "function SolveLxb_row(L, b)\n",
    "    n = size(L)[1]\n",
    "    x = copy(b)\n",
    "    b_ = copy(b)\n",
    "\n",
    "    for i=1:n\n",
    "        for j=1:i-1\n",
    "            b_[i] -= L[i,j] * x[j]\n",
    "        end\n",
    "        x[i] = b_[i] / L[i,i]\n",
    "    end\n",
    "    \n",
    "    return x\n",
    "end\n",
    "\n",
    "function SolveLxb_col(L, b)\n",
    "    n = size(L)[1]\n",
    "    x = copy(b)\n",
    "\n",
    "    for j=1:n\n",
    "        x[j] = x[j] / L[j,j]\n",
    "        for i=j+1:n\n",
    "            x[i] = x[i] - L[i,j] * x[j]\n",
    "        end\n",
    "    end\n",
    "    \n",
    "    return x\n",
    "end\n",
    "\n",
    "x_row = SolveLxb_row(L, b)\n",
    "x_col = SolveLxb_col(L, b)\n",
    "x_true = inv(L) * b\n",
    "\n",
    "@assert all(i < 1e-10 for i in x_row - x_true)\n",
    "@assert all(i < 1e-10 for i in x_col - x_true)"
   ]
  },
  {
   "cell_type": "code",
   "execution_count": 3,
   "metadata": {},
   "outputs": [
    {
     "name": "stdout",
     "output_type": "stream",
     "text": [
      "  0.078347 seconds (4 allocations: 62.594 KiB)\n",
      "  0.010635 seconds (2 allocations: 31.297 KiB)\n"
     ]
    }
   ],
   "source": [
    "n = 4000\n",
    "L = GenerateLowerTriangular(n)\n",
    "b = rand(1:1e-5:5, (n,1))\n",
    "\n",
    "@time x_row = SolveLxb_row(L, b)\n",
    "@time x_col = SolveLxb_col(L, b)\n",
    "print(\"\")"
   ]
  }
 ],
 "metadata": {
  "kernelspec": {
   "display_name": "Julia 1.10.0",
   "language": "julia",
   "name": "julia-1.10"
  },
  "language_info": {
   "file_extension": ".jl",
   "mimetype": "application/julia",
   "name": "julia",
   "version": "1.10.0"
  }
 },
 "nbformat": 4,
 "nbformat_minor": 2
}
