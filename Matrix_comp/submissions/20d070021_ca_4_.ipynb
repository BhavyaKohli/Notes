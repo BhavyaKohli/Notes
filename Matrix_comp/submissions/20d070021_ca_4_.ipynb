{
 "cells": [
  {
   "cell_type": "markdown",
   "metadata": {},
   "source": [
    "# House"
   ]
  },
  {
   "cell_type": "code",
   "execution_count": 1,
   "metadata": {},
   "outputs": [
    {
     "data": {
      "text/plain": [
       "4×3 Matrix{Float64}:\n",
       " 1.0          1.0          1.0\n",
       " 8.44369e-11  0.0          0.0\n",
       " 0.0          8.44369e-11  0.0\n",
       " 0.0          0.0          8.44369e-11"
      ]
     },
     "metadata": {},
     "output_type": "display_data"
    }
   ],
   "source": [
    "using Random\n",
    "using LinearAlgebra\n",
    "rng = MersenneTwister(2018)\n",
    "import LinearAlgebra.dot\n",
    "import LinearAlgebra.norm\n",
    "import LinearAlgebra.cond\n",
    "import LinearAlgebra.triu\n",
    "import LinearAlgebra.qr\n",
    "import LinearAlgebra.UniformScaling;\n",
    "\n",
    "Random.seed!(69)\n",
    "\n",
    "e = 1e-10 * randn()\n",
    "A = [1 1 1; e 0 0; 0 e 0; 0 0 e]\n",
    "A = float(A)\n",
    "A0 = copy(A)"
   ]
  },
  {
   "cell_type": "code",
   "execution_count": 2,
   "metadata": {},
   "outputs": [
    {
     "data": {
      "text/plain": [
       "house (generic function with 1 method)"
      ]
     },
     "metadata": {},
     "output_type": "display_data"
    }
   ],
   "source": [
    "function house(x)\n",
    "    \"\"\"Computes the Householder transformation for input vector x\"\"\"\n",
    "    sigma = dot(x[2:end],x[2:end])\n",
    "    v = copy(x)\n",
    "\n",
    "    if sigma == 0\n",
    "        beta = 0\n",
    "        return beta, v\n",
    "    end\n",
    "\n",
    "    sq = sqrt(x[1]^2 + sigma)\n",
    "    if x[1] > 0\n",
    "        v[1] += sq\n",
    "    else\n",
    "        v[1] -= sq\n",
    "    end\n",
    "\n",
    "    beta = 2.0 / (v[1]^2 + sigma)\n",
    "\n",
    "    return beta, v\n",
    "end\n"
   ]
  },
  {
   "cell_type": "code",
   "execution_count": 3,
   "metadata": {},
   "outputs": [],
   "source": [
    "m = size(A,1)\n",
    "n = size(A,2)\n",
    "vA = zeros(n)\n",
    "E = Matrix{Float64}(I, m, m)\n",
    "kend = (m > n ? n : m-1)\n",
    "Q = copy(E)\n",
    "for k=1:kend\n",
    "    beta, v = house(A[k:end,k])\n",
    "G = Matrix{Float64}(I, m-k+1, m-k+1) - beta*v*v'\n",
    "\n",
    "P = copy(E)\n",
    "P = float(P)\n",
    "P[k:end, k:end] = G\n",
    "\n",
    "Q = Q*P\n",
    "\n",
    "    for j=k:n\n",
    "        vA[j] = 0.0\n",
    "        for i=k:m\n",
    "            vA[j] += v[i-k+1] * A[i,j]\n",
    "        end\n",
    "        vA[j] *= beta\n",
    "    end\n",
    "    for j=k:n, i=k:m\n",
    "        A[i,j] -= v[i-k+1] * vA[j]\n",
    "    end\n",
    "\n",
    "v = v/v[1]\n",
    "    A[k+1:end,k] = v[2:end]\n",
    "end"
   ]
  },
  {
   "cell_type": "code",
   "execution_count": 4,
   "metadata": {},
   "outputs": [
    {
     "data": {
      "text/plain": [
       "4×3 Matrix{Float64}:\n",
       " -1.0  -1.0          -1.0\n",
       "  0.0   1.19412e-10   5.97059e-11\n",
       "  0.0   0.0           1.03414e-10\n",
       "  0.0   0.0           0.0"
      ]
     },
     "metadata": {},
     "output_type": "display_data"
    }
   ],
   "source": [
    "R = triu(A)"
   ]
  },
  {
   "cell_type": "code",
   "execution_count": 5,
   "metadata": {},
   "outputs": [
    {
     "data": {
      "text/plain": [
       "\"Reconstruction error after using house\""
      ]
     },
     "metadata": {},
     "output_type": "display_data"
    },
    {
     "data": {
      "text/plain": [
       "1.9236393923411068e-26"
      ]
     },
     "metadata": {},
     "output_type": "display_data"
    },
    {
     "data": {
      "text/plain": [
       "\"Check whether Q is orhonormal\""
      ]
     },
     "metadata": {},
     "output_type": "display_data"
    },
    {
     "data": {
      "text/plain": [
       "3.499222384778056e-16"
      ]
     },
     "metadata": {},
     "output_type": "display_data"
    }
   ],
   "source": [
    "display(\"Reconstruction error after using house\")\n",
    "display(norm(Q*R - A0))\n",
    "\n",
    "display(\"Check whether Q is orhonormal\")\n",
    "display(norm(Q' * Q - Matrix(I, 4, 4)))\n",
    ";"
   ]
  },
  {
   "cell_type": "markdown",
   "metadata": {},
   "source": [
    "# CGS"
   ]
  },
  {
   "cell_type": "code",
   "execution_count": 6,
   "metadata": {},
   "outputs": [
    {
     "data": {
      "text/plain": [
       "4×3 Matrix{Float64}:\n",
       " 1.0          1.0          1.0\n",
       " 8.44369e-11  0.0          0.0\n",
       " 0.0          8.44369e-11  0.0\n",
       " 0.0          0.0          8.44369e-11"
      ]
     },
     "metadata": {},
     "output_type": "display_data"
    }
   ],
   "source": [
    "using Random\n",
    "using LinearAlgebra\n",
    "rng = MersenneTwister(2018)\n",
    "import LinearAlgebra.dot\n",
    "import LinearAlgebra.norm\n",
    "import LinearAlgebra.triu\n",
    "import LinearAlgebra.diag\n",
    ";\n",
    "Random.seed!(69)\n",
    "\n",
    "e = 1e-10 * randn()\n",
    "A = [1 1 1; e 0 0; 0 e 0; 0 0 e]\n",
    "A = float(A)\n",
    "A0 = copy(A)\n",
    "B0 = copy(A)\n",
    "C0 = copy(A)"
   ]
  },
  {
   "cell_type": "code",
   "execution_count": 7,
   "metadata": {},
   "outputs": [],
   "source": [
    "m = size(A,1)\n",
    "n = size(A,2)\n",
    "@assert m >= n\n",
    "R = zeros(Float64, n,n)\n",
    "for j=1:n\n",
    "    for i=1:j-1, k=1:m\n",
    "        R[i,j] += A[k,i] * A[k,j]\n",
    "    end\n",
    "    for i=1:j-1, k=1:m\n",
    "        A[k,j] -= A[k,i] * R[i,j]\n",
    "    end\n",
    "    R[j,j] = norm( A[:,j] )\n",
    "    A[:,j] /= R[j,j]\n",
    "end"
   ]
  },
  {
   "cell_type": "code",
   "execution_count": 8,
   "metadata": {},
   "outputs": [
    {
     "data": {
      "text/plain": [
       "\"Reconstruction error after using house\""
      ]
     },
     "metadata": {},
     "output_type": "display_data"
    },
    {
     "data": {
      "text/plain": [
       "5.520603538388541e-27"
      ]
     },
     "metadata": {},
     "output_type": "display_data"
    },
    {
     "data": {
      "text/plain": [
       "\"Check whether Q is orhonormal\""
      ]
     },
     "metadata": {},
     "output_type": "display_data"
    },
    {
     "data": {
      "text/plain": [
       "0.7071067811865477"
      ]
     },
     "metadata": {},
     "output_type": "display_data"
    }
   ],
   "source": [
    "display(\"Reconstruction error after using house\")\n",
    "display(norm(A*R - A0))\n",
    "\n",
    "display(\"Check whether Q is orhonormal\")\n",
    "display(norm(A' * A - Matrix(I, 3, 3)))\n",
    ";"
   ]
  }
 ],
 "metadata": {
  "kernelspec": {
   "display_name": "Julia 1.10.0",
   "language": "julia",
   "name": "julia-1.10"
  },
  "language_info": {
   "file_extension": ".jl",
   "mimetype": "application/julia",
   "name": "julia",
   "version": "1.10.0"
  }
 },
 "nbformat": 4,
 "nbformat_minor": 2
}
