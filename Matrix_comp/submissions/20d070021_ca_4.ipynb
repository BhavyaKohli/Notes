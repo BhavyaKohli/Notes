{
 "cells": [
  {
   "cell_type": "code",
   "execution_count": 91,
   "metadata": {},
   "outputs": [
    {
     "data": {
      "text/plain": [
       "factorize_QR_house (generic function with 1 method)"
      ]
     },
     "metadata": {},
     "output_type": "display_data"
    }
   ],
   "source": [
    "function house(x)\n",
    "    sigma = dot(x[2:end], x[2:end])\n",
    "    v = copy(x)\n",
    "\n",
    "    if sigma == 0\n",
    "        beta = 0\n",
    "        return beta, v\n",
    "    end\n",
    "\n",
    "    sq = sqrt(x[1]^2 + sigma)\n",
    "    if x[1] > 0\n",
    "        v[1] += sq      # reflect to positive x axis\n",
    "    else\n",
    "        v[1] -= sq      # reflect to negative x axis\n",
    "    end\n",
    "\n",
    "    beta = 2.0 * v[1]^2 / (v[1]^2 + sigma)\n",
    "    v1 = v[1]\n",
    "\n",
    "    for i=1:length(v)\n",
    "        v[i] /= v1\n",
    "    end\n",
    "    # display(v)\n",
    "        \n",
    "    return beta, transpose(v)   # get column vector v\n",
    "end\n",
    "\n",
    "function factorize_QR_house(A)\n",
    "    m, n = size(A)\n",
    "    A_out = copy(A)\n",
    "    \n",
    "    for j=1:n\n",
    "        vTA = zeros(n)      # stores beta * vT * A\n",
    "        beta, v = house(A[j:end, j]) \n",
    "        # v is of shape (m-j+1 x 1), same as the lower jth column of A\n",
    "\n",
    "        Identity = Matrix(I, length(v), length(v))\n",
    "        v_vec = zeros(length(v),1)\n",
    "        \n",
    "        for i=1:length(v)\n",
    "            v_vec[i] = v[i]\n",
    "        end\n",
    "        \n",
    "        QT = Identity - beta * v_vec * v_vec'  \n",
    "        QT = pad(QT, m)\n",
    "        \n",
    "        display(QT)\n",
    "\n",
    "        for k=j:n       # row indices of A, starts from diagonal element\n",
    "            for i=j:m   \n",
    "                vTA[k] += v[i-j+1] * A[i,k]\n",
    "            end\n",
    "            vTA[k] *= beta\n",
    "        end\n",
    "\n",
    "        for k=j:n\n",
    "            for i=j:m\n",
    "                A[i,k] -= v[i-j+1] * vTA[k]\n",
    "            end\n",
    "        end\n",
    "        \n",
    "        # display(j)\n",
    "        # display(round.(A, digits=10))\n",
    "        # display(v)\n",
    "        A_out[j+1:end, j] = v[2:end]\n",
    "    end\n",
    "\n",
    "    return A_out\n",
    "end"
   ]
  },
  {
   "cell_type": "code",
   "execution_count": 100,
   "metadata": {},
   "outputs": [
    {
     "data": {
      "text/plain": [
       "pad (generic function with 1 method)"
      ]
     },
     "metadata": {},
     "output_type": "display_data"
    }
   ],
   "source": [
    "function pad(QT, m)\n",
    "    full = Matrix(I, m, m)\n",
    "    current = size(QT)\n",
    "    full[m-current:end,m-current:end] = QT\n",
    "end"
   ]
  },
  {
   "cell_type": "code",
   "execution_count": 101,
   "metadata": {},
   "outputs": [
    {
     "ename": "MethodError",
     "evalue": "MethodError: no method matching -(::Int64, ::Tuple{Int64, Int64})\n\nClosest candidates are:\n  -(::Real, !Matched::Complex{Bool})\n   @ Base complex.jl:321\n  -(::Number, !Matched::UniformScaling)\n   @ LinearAlgebra C:\\Users\\bhavy\\.julia\\juliaup\\julia-1.10.0+0.x64.w64.mingw32\\share\\julia\\stdlib\\v1.10\\LinearAlgebra\\src\\uniformscaling.jl:147\n  -(::Number, !Matched::Missing)\n   @ Base missing.jl:124\n  ...\n",
     "output_type": "error",
     "traceback": [
      "MethodError: no method matching -(::Int64, ::Tuple{Int64, Int64})\n",
      "\n",
      "Closest candidates are:\n",
      "  -(::Real, !Matched::Complex{Bool})\n",
      "   @ Base complex.jl:321\n",
      "  -(::Number, !Matched::UniformScaling)\n",
      "   @ LinearAlgebra C:\\Users\\bhavy\\.julia\\juliaup\\julia-1.10.0+0.x64.w64.mingw32\\share\\julia\\stdlib\\v1.10\\LinearAlgebra\\src\\uniformscaling.jl:147\n",
      "  -(::Number, !Matched::Missing)\n",
      "   @ Base missing.jl:124\n",
      "  ...\n",
      "\n",
      "\n",
      "Stacktrace:\n",
      " [1] pad(QT::Matrix{Float64}, m::Int64)\n",
      "   @ Main c:\\Users\\bhavy\\Courses\\EE636\\submissions\\20d070021_ca_4.ipynb:4\n",
      " [2] factorize_QR_house(A::Matrix{Float64})\n",
      "   @ Main c:\\Users\\bhavy\\Courses\\EE636\\submissions\\20d070021_ca_4.ipynb:45\n",
      " [3] top-level scope\n",
      "   @ c:\\Users\\bhavy\\Courses\\EE636\\submissions\\20d070021_ca_4.ipynb:1"
     ]
    }
   ],
   "source": [
    "factorize_QR_house(A)"
   ]
  },
  {
   "cell_type": "code",
   "execution_count": 51,
   "metadata": {},
   "outputs": [
    {
     "data": {
      "text/plain": [
       "factorize_QR_givens (generic function with 1 method)"
      ]
     },
     "metadata": {},
     "output_type": "display_data"
    }
   ],
   "source": [
    "function givens(a, b)\n",
    "    if b == 0\n",
    "        c = 1\n",
    "        s = 0\n",
    "    else\n",
    "        if abs(b) > abs(a)\n",
    "            tau = -a / b\n",
    "            s = 1.0 / sqrt(1.0 + tau*tau)\n",
    "            c = s*tau\n",
    "        else\n",
    "            tau = -b/a\n",
    "            c = 1.0 / sqrt(1.0 + tau*tau)\n",
    "            s = c*tau\n",
    "        end\n",
    "    end\n",
    "    return (c, s)\n",
    "end\n",
    "\n",
    "function factorize_QR_givens(A)\n",
    "    m, n = size(A)\n",
    "    A_out = copy(A)\n",
    "\n",
    "    G = Matrix(I, n, n)\n",
    "\n",
    "    for j=1:n\n",
    "        c, s = givens(A[1,j], A[j+1,j])\n",
    "\n",
    "        G[1,j] = c\n",
    "        G[1,j+1] = -s\n",
    "        G[j+1,j] = s \n",
    "        G[j+1,j+1] = c\n",
    "\n",
    "        display(G * A)\n",
    "\n",
    "        for k=j:n\n",
    "            A_out[1,k], A_out[j+1,k] = c * A[1,k] - s * A[j+1,k], s * A[1,k] + c * A[j+1,k]\n",
    "        end\n",
    "        # display(j)\n",
    "        # display(round.(A, digits=10))\n",
    "    end\n",
    "    return A_out\n",
    "end"
   ]
  },
  {
   "cell_type": "code",
   "execution_count": 52,
   "metadata": {},
   "outputs": [
    {
     "data": {
      "text/plain": [
       "4×3 Matrix{Float64}:\n",
       " 1.0          1.0          1.0\n",
       " 8.44369e-11  0.0          0.0\n",
       " 0.0          8.44369e-11  0.0\n",
       " 0.0          0.0          8.44369e-11"
      ]
     },
     "metadata": {},
     "output_type": "display_data"
    }
   ],
   "source": [
    "using LinearAlgebra\n",
    "using Random\n",
    "\n",
    "Random.seed!(69)\n",
    "\n",
    "e = 1e-10 * randn()\n",
    "A0 = [1 1 1; e 0 0; 0 e 0; 0 0 e]"
   ]
  },
  {
   "cell_type": "code",
   "execution_count": 53,
   "metadata": {},
   "outputs": [
    {
     "ename": "MethodError",
     "evalue": "MethodError: no method matching -(::Matrix{Bool}, ::Float64)\nFor element-wise subtraction, use broadcasting with dot syntax: array .- scalar\n\nClosest candidates are:\n  -(!Matched::Complex{Bool}, ::Real)\n   @ Base complex.jl:326\n  -(!Matched::Missing, ::Number)\n   @ Base missing.jl:123\n  -(!Matched::BigFloat, ::Union{Float16, Float32, Float64})\n   @ Base mpfr.jl:506\n  ...\n",
     "output_type": "error",
     "traceback": [
      "MethodError: no method matching -(::Matrix{Bool}, ::Float64)\n",
      "For element-wise subtraction, use broadcasting with dot syntax: array .- scalar\n",
      "\n",
      "Closest candidates are:\n",
      "  -(!Matched::Complex{Bool}, ::Real)\n",
      "   @ Base complex.jl:326\n",
      "  -(!Matched::Missing, ::Number)\n",
      "   @ Base missing.jl:123\n",
      "  -(!Matched::BigFloat, ::Union{Float16, Float32, Float64})\n",
      "   @ Base mpfr.jl:506\n",
      "  ...\n",
      "\n",
      "\n",
      "Stacktrace:\n",
      " [1] factorize_QR_house(A::Matrix{Float64})\n",
      "   @ Main c:\\Users\\bhavy\\Courses\\EE636\\submissions\\20d070021_ca_4.ipynb:38\n",
      " [2] top-level scope\n",
      "   @ c:\\Users\\bhavy\\Courses\\EE636\\submissions\\20d070021_ca_4.ipynb:2"
     ]
    }
   ],
   "source": [
    "A = copy(A0)\n",
    "A_house = factorize_QR_house(A)\n",
    "A = copy(A0)\n",
    "A_givens = factorize_QR_givens(A)\n",
    ";"
   ]
  },
  {
   "cell_type": "code",
   "execution_count": 46,
   "metadata": {},
   "outputs": [
    {
     "data": {
      "text/plain": [
       "4×3 Matrix{Float64}:\n",
       " 1.0           1.0        1.0\n",
       " 4.22185e-11   0.0        0.0\n",
       " 0.0          -0.414214   0.0\n",
       " 0.0          -0.0       -0.517638"
      ]
     },
     "metadata": {},
     "output_type": "display_data"
    },
    {
     "data": {
      "text/plain": [
       "4×3 Matrix{Float64}:\n",
       " 1.0   1.0           1.0\n",
       " 0.0  -8.44369e-11  -8.44369e-11\n",
       " 0.0   0.0          -8.44369e-11\n",
       " 0.0   0.0           0.0"
      ]
     },
     "metadata": {},
     "output_type": "display_data"
    }
   ],
   "source": [
    "display(A_house)\n",
    "display(A_givens)"
   ]
  },
  {
   "cell_type": "code",
   "execution_count": null,
   "metadata": {},
   "outputs": [],
   "source": []
  }
 ],
 "metadata": {
  "kernelspec": {
   "display_name": "Julia 1.10.0",
   "language": "julia",
   "name": "julia-1.10"
  },
  "language_info": {
   "file_extension": ".jl",
   "mimetype": "application/julia",
   "name": "julia",
   "version": "1.10.0"
  }
 },
 "nbformat": 4,
 "nbformat_minor": 2
}
