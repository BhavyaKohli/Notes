{
 "cells": [
  {
   "cell_type": "code",
   "execution_count": 1,
   "metadata": {},
   "outputs": [
    {
     "data": {
      "text/plain": [
       "3×3 Matrix{Float64}:\n",
       " 2.20418  1.74038  4.14049\n",
       " 0.0      2.83387  3.42989\n",
       " 0.0      0.0      3.77612"
      ]
     },
     "metadata": {},
     "output_type": "display_data"
    },
    {
     "data": {
      "text/plain": [
       "3×1 Matrix{Float64}:\n",
       " 3.29983\n",
       " 3.67688\n",
       " 1.12719"
      ]
     },
     "metadata": {},
     "output_type": "display_data"
    }
   ],
   "source": [
    "using Random\n",
    "Random.seed!(10)\n",
    "\n",
    "function GenerateUpperTriangular(n)\n",
    "    L = rand(1:1e-5:5, (n,n))\n",
    "    for i=1:n\n",
    "        for j=1:i-1\n",
    "            L[i,j] = 0\n",
    "        end\n",
    "    end\n",
    "    return L\n",
    "end\n",
    "\n",
    "n = 3\n",
    "U = GenerateUpperTriangular(n)\n",
    "b = rand(1:1e-5:5, (n,1))\n",
    "display(U)\n",
    "display(b)"
   ]
  },
  {
   "cell_type": "code",
   "execution_count": 2,
   "metadata": {},
   "outputs": [],
   "source": [
    "function SolveUxb_row(U, b)\n",
    "    n = size(U)[1]\n",
    "    x = copy(b)\n",
    "    b_ = copy(b)\n",
    "\n",
    "    for i=1:n\n",
    "        i = n-i+1\n",
    "        for j=i+1:n\n",
    "            b_[i] = b_[i] - U[i,j] * x[j]\n",
    "        end\n",
    "        x[i] = b_[i] / U[i,i]\n",
    "    end\n",
    "    \n",
    "    return x\n",
    "end\n",
    "\n",
    "function SolveUxb_col(U, b)\n",
    "    n = size(U)[1]\n",
    "    x = copy(b)\n",
    "\n",
    "    for j=1:n\n",
    "        j = n-j+1\n",
    "        x[j] = x[j] / U[j,j]\n",
    "        for i=1:j-1\n",
    "            x[i] = x[i] - U[i,j] * x[j]\n",
    "        end\n",
    "    end\n",
    "    \n",
    "    return x\n",
    "end\n",
    "\n",
    "x_row = SolveUxb_row(U, b)\n",
    "x_col = SolveUxb_col(U, b)\n",
    "x_true = inv(U) * b\n",
    "\n",
    "@assert all(i < 1e-10 for i in x_row - x_true)\n",
    "@assert all(i < 1e-10 for i in x_col - x_true)"
   ]
  },
  {
   "cell_type": "code",
   "execution_count": 3,
   "metadata": {},
   "outputs": [
    {
     "name": "stdout",
     "output_type": "stream",
     "text": [
      "  0.083955 seconds (4 allocations: 62.594 KiB)\n",
      "  0.010567 seconds (2 allocations: 31.297 KiB)\n"
     ]
    }
   ],
   "source": [
    "n = 4000\n",
    "U = GenerateUpperTriangular(n)\n",
    "b = rand(1:1e-5:5, (n,1))\n",
    "\n",
    "@time x_row = SolveUxb_row(U, b)\n",
    "@time x_col = SolveUxb_col(U, b)\n",
    "print(\"\")"
   ]
  }
 ],
 "metadata": {
  "kernelspec": {
   "display_name": "Julia 1.10.0",
   "language": "julia",
   "name": "julia-1.10"
  },
  "language_info": {
   "file_extension": ".jl",
   "mimetype": "application/julia",
   "name": "julia",
   "version": "1.10.0"
  }
 },
 "nbformat": 4,
 "nbformat_minor": 2
}
