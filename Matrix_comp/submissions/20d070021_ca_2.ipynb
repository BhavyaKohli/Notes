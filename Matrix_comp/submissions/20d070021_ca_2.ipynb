{
 "cells": [
  {
   "cell_type": "code",
   "execution_count": 2,
   "metadata": {},
   "outputs": [],
   "source": [
    "using LinearAlgebra\n",
    "using Random\n",
    "rng = MersenneTwister(5);\n",
    "\n",
    "Random.seed!(rng, 2018)\n",
    "\n",
    "n = 1000;\n",
    "\n",
    "L = zeros(Float64,n,n)\n",
    "U = zeros(Float64,n,n)\n",
    "for i=1:n    \n",
    "    U[i,i] = i\n",
    "    U[i,i+1:n] = rand(rng, 0:9, n-i)\n",
    "    L[i,1:i] = rand(rng, 0:9, i)\n",
    "    L[i,i] = 1\n",
    "end"
   ]
  },
  {
   "cell_type": "code",
   "execution_count": 3,
   "metadata": {},
   "outputs": [
    {
     "data": {
      "text/plain": [
       "solve_col (generic function with 1 method)"
      ]
     },
     "execution_count": 3,
     "metadata": {},
     "output_type": "execute_result"
    }
   ],
   "source": [
    "function solve_row(L,U)\n",
    "    A = L * U\n",
    "    n = size(A,1)\n",
    "\n",
    "    for k=1:n\n",
    "        @assert A[k,k] != 0\n",
    "        for i=k+1:n\n",
    "            A[i,k] /= A[k,k]\n",
    "        end\n",
    "\n",
    "        for i=k+1:n\n",
    "            for j=k+1:n\n",
    "                A[i,j] -= A[i,k] * A[k,j]\n",
    "            end\n",
    "        end\n",
    "    end\n",
    "\n",
    "    return A\n",
    "end\n",
    "\n",
    "function solve_col(L,U)\n",
    "    A = L * U\n",
    "    n = size(A,1)\n",
    "\n",
    "    for k=1:n\n",
    "        @assert A[k,k] != 0\n",
    "        for j=k+1:n\n",
    "            for i=k+1:n\n",
    "                A[i,k] /= A[k,k]\n",
    "                A[i,j] -= A[i,k] * A[k,j]\n",
    "            end\n",
    "        end\n",
    "\n",
    "    end\n",
    "\n",
    "    return A\n",
    "end"
   ]
  },
  {
   "cell_type": "code",
   "execution_count": 4,
   "metadata": {},
   "outputs": [
    {
     "name": "stdout",
     "output_type": "stream",
     "text": [
      "  2.758439 seconds (2.18 M allocations: 155.320 MiB, 3.87% gc time, 47.04% compilation time)\n",
      "  0.937775 seconds (10.37 k allocations: 8.334 MiB, 4.00% compilation time)\n"
     ]
    }
   ],
   "source": [
    "@time solve_row(L,U)\n",
    "@time solve_col(L,U)\n",
    "print(\"\")"
   ]
  },
  {
   "cell_type": "code",
   "execution_count": null,
   "metadata": {},
   "outputs": [],
   "source": []
  }
 ],
 "metadata": {
  "kernelspec": {
   "display_name": "Julia 1.10.0",
   "language": "julia",
   "name": "julia-1.10"
  },
  "language_info": {
   "file_extension": ".jl",
   "mimetype": "application/julia",
   "name": "julia",
   "version": "1.10.0"
  }
 },
 "nbformat": 4,
 "nbformat_minor": 2
}
