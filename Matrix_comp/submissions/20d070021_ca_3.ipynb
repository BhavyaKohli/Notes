{
 "cells": [
  {
   "cell_type": "code",
   "execution_count": 21,
   "metadata": {},
   "outputs": [
    {
     "data": {
      "text/plain": [
       "4×4 Matrix{Float64}:\n",
       " 25.0   0.0   45.0  10.0\n",
       "  0.0   1.0   -5.0  -7.0\n",
       " 45.0  -5.0  122.0  37.0\n",
       " 10.0  -7.0   37.0  73.0"
      ]
     },
     "metadata": {},
     "output_type": "display_data"
    },
    {
     "data": {
      "text/plain": [
       "4×4 Matrix{Float64}:\n",
       " 5.0   0.0   0.0  0.0\n",
       " 0.0   1.0   0.0  0.0\n",
       " 9.0  -5.0   4.0  0.0\n",
       " 2.0  -7.0  -4.0  2.0"
      ]
     },
     "metadata": {},
     "output_type": "display_data"
    },
    {
     "data": {
      "text/plain": [
       "4-element Vector{Int64}:\n",
       " 7\n",
       " 0\n",
       " 6\n",
       " 0"
      ]
     },
     "metadata": {},
     "output_type": "display_data"
    },
    {
     "data": {
      "text/plain": [
       "4-element Vector{Float64}:\n",
       "  445.0\n",
       "  -30.0\n",
       " 1047.0\n",
       "  292.0"
      ]
     },
     "metadata": {},
     "output_type": "display_data"
    }
   ],
   "source": [
    "using LinearAlgebra\n",
    "using Random\n",
    "rng = MersenneTwister(5);\n",
    "\n",
    "Random.seed!(rng, 69)\n",
    "\n",
    "n = 4;\n",
    "\n",
    "G = zeros(Float64,n,n)\n",
    "    for i=1:n    \n",
    "    G[i,i] = rand(rng, 1:5)                 # positive diagonals\n",
    "    G[i+1:n, i] = rand(rng, -10:10, n-i)    # G is lower triangular\n",
    "end\n",
    "\n",
    "A = G * G'\n",
    "display(A)\n",
    "display(G)\n",
    "\n",
    "for eigval in eigvals(A)\n",
    "    @assert eigval > 0\n",
    "end\n",
    "\n",
    "x_orig = rand(rng, 0:10, n)\n",
    "b = A * x_orig\n",
    "display(x_orig)\n",
    "display(b)"
   ]
  },
  {
   "cell_type": "code",
   "execution_count": 18,
   "metadata": {},
   "outputs": [],
   "source": [
    "# Cholesky decomposition, num flops = 1/3 n^3 (classic LU is 2/3 n^3, LU with pivoting is n^3)\n",
    "\n",
    "function factorize_cholesky(A)\n",
    "    display(\"Original Matrix\")\n",
    "    display(A)\n",
    "    n = size(A, 1)\n",
    "    for j=1:n\n",
    "        for k=1:j-1\n",
    "            for i=j:n\n",
    "                A[i,j] = A[i,j] - A[i,k] * A[j,k]\n",
    "            end\n",
    "        end\n",
    "\n",
    "        sqrt_ajj = sqrt(A[j,j])\n",
    "\n",
    "        for i=j:n\n",
    "            A[i,j] /= sqrt_ajj\n",
    "        end\n",
    "        display(j)\n",
    "        display(A)\n",
    "    end    \n",
    "    return A\n",
    "end\n",
    ";"
   ]
  },
  {
   "cell_type": "code",
   "execution_count": 19,
   "metadata": {},
   "outputs": [
    {
     "data": {
      "text/plain": [
       "\"Original Matrix\""
      ]
     },
     "metadata": {},
     "output_type": "display_data"
    },
    {
     "data": {
      "text/plain": [
       "4×4 Matrix{Float64}:\n",
       " 25.0   0.0   45.0  10.0\n",
       "  0.0   1.0   -5.0  -7.0\n",
       " 45.0  -5.0  122.0  37.0\n",
       " 10.0  -7.0   37.0  73.0"
      ]
     },
     "metadata": {},
     "output_type": "display_data"
    },
    {
     "data": {
      "text/plain": [
       "1"
      ]
     },
     "metadata": {},
     "output_type": "display_data"
    },
    {
     "data": {
      "text/plain": [
       "4×4 Matrix{Float64}:\n",
       " 5.0   0.0   45.0  10.0\n",
       " 0.0   1.0   -5.0  -7.0\n",
       " 9.0  -5.0  122.0  37.0\n",
       " 2.0  -7.0   37.0  73.0"
      ]
     },
     "metadata": {},
     "output_type": "display_data"
    },
    {
     "data": {
      "text/plain": [
       "2"
      ]
     },
     "metadata": {},
     "output_type": "display_data"
    },
    {
     "data": {
      "text/plain": [
       "4×4 Matrix{Float64}:\n",
       " 5.0   0.0   45.0  10.0\n",
       " 0.0   1.0   -5.0  -7.0\n",
       " 9.0  -5.0  122.0  37.0\n",
       " 2.0  -7.0   37.0  73.0"
      ]
     },
     "metadata": {},
     "output_type": "display_data"
    },
    {
     "data": {
      "text/plain": [
       "3"
      ]
     },
     "metadata": {},
     "output_type": "display_data"
    },
    {
     "data": {
      "text/plain": [
       "4×4 Matrix{Float64}:\n",
       " 5.0   0.0  45.0  10.0\n",
       " 0.0   1.0  -5.0  -7.0\n",
       " 9.0  -5.0   4.0  37.0\n",
       " 2.0  -7.0  -4.0  73.0"
      ]
     },
     "metadata": {},
     "output_type": "display_data"
    },
    {
     "data": {
      "text/plain": [
       "4"
      ]
     },
     "metadata": {},
     "output_type": "display_data"
    },
    {
     "data": {
      "text/plain": [
       "4×4 Matrix{Float64}:\n",
       " 5.0   0.0  45.0  10.0\n",
       " 0.0   1.0  -5.0  -7.0\n",
       " 9.0  -5.0   4.0  37.0\n",
       " 2.0  -7.0  -4.0   2.0"
      ]
     },
     "metadata": {},
     "output_type": "display_data"
    }
   ],
   "source": [
    "A_fact = factorize_cholesky(A)\n",
    "\n",
    "L = tril(A_fact)\n",
    "@assert norm(L - G) == 0        # lower triangular part of A now contains G, the original matrix used to compute A"
   ]
  },
  {
   "cell_type": "code",
   "execution_count": 20,
   "metadata": {},
   "outputs": [],
   "source": [
    "# function to solve for x, using cholesky factorized A\n",
    "\n",
    "function solve(A_fact, b)\n",
    "    x = copy(b)\n",
    "    \n",
    "    for j=1:n\n",
    "        x[j] /= A_fact[j,j]\n",
    "        for i=j+1:n\n",
    "            x[i] -= A_fact[i,j] * x[j]\n",
    "        end\n",
    "    end\n",
    "    \n",
    "    for i=n:-1:1\n",
    "        for j=i+1:n\n",
    "            x[i] -= A_fact[j,i] * x[j]\n",
    "        end\n",
    "        x[i] /= A_fact[i,i]\n",
    "    end\n",
    "    return x\n",
    "end\n",
    "\n",
    "x_sol = solve(A_fact, b)\n",
    "@assert norm(x_sol - x_orig) == 0"
   ]
  }
 ],
 "metadata": {
  "kernelspec": {
   "display_name": "Julia 1.10.0",
   "language": "julia",
   "name": "julia-1.10"
  },
  "language_info": {
   "file_extension": ".jl",
   "mimetype": "application/julia",
   "name": "julia",
   "version": "1.10.0"
  }
 },
 "nbformat": 4,
 "nbformat_minor": 2
}
