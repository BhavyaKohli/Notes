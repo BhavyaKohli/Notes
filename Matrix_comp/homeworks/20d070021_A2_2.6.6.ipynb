{
 "cells": [
  {
   "cell_type": "code",
   "execution_count": 1,
   "metadata": {},
   "outputs": [
    {
     "data": {
      "text/plain": [
       "generate_Hilbert (generic function with 1 method)"
      ]
     },
     "metadata": {},
     "output_type": "display_data"
    }
   ],
   "source": [
    "using LinearAlgebra\n",
    "\n",
    "function generate_Hilbert(n)\n",
    "    H = zeros(Float64,n,n)\n",
    "    for i=1:n, j=1:n\n",
    "        H[i,j] = 1/(i+j-1)\n",
    "    end\n",
    "    return H\n",
    "end"
   ]
  },
  {
   "cell_type": "code",
   "execution_count": 2,
   "metadata": {},
   "outputs": [
    {
     "name": "stdout",
     "output_type": "stream",
     "text": [
      "n = 4"
     ]
    },
    {
     "name": "stdout",
     "output_type": "stream",
     "text": [
      "\n",
      "xhat = [0.9999999999999732; 1.0000000000002947; 0.9999999999992952; 1.0000000000004565;;]\n",
      "cond(H) = 15513.73873892924\n",
      "norm(xhat - z) = 8.903091920362417e-13\n",
      "norm(b - H * xhat) = 1.1102230246251565e-16\n",
      "n = 8\n",
      "xhat = [1.0000000000109863; 0.9999999993576963; 1.0000000088635865; 0.9999999501403716; 1.000000138154461; 0.9999998001023864; 1.0000001448218727; 0.9999999585366541;;]\n",
      "cond(H) = 1.5257575538072489e10\n",
      "norm(xhat - z) = 2.903502251709402e-7\n",
      "norm(b - H * xhat) = 2.482534153247273e-16\n",
      "n = 12\n",
      "xhat = [1.0000000600574452; 0.9999923302908108; 1.0002425288139376; 0.9966821491321812; 1.0243968958157255; 0.89255585376677; 1.2999053505150169; 0.4563728332707735; 1.6380327680562408; 0.5323146997529747; 1.1945821210159167; 0.9649223676337864;;]\n",
      "cond(H) = 1.760619121841585e16\n",
      "norm(xhat - z) = 1.0307920406485385\n",
      "norm(b - H * xhat) = 5.20740757162067e-16\n",
      "n = 16\n",
      "xhat = [0.9999991389610657; 1.0001368077345612; 0.9946645733325112; 1.0890845662226571; 0.21253168669900885; 5.0624865849976555; -11.621595527393714; 23.55048159078535; -15.87978463924024; -12.370956347991; 37.58987223595002; -11.9354287141036; -33.33093705239826; 48.73938245017291; -24.083282531095694; 5.98334597489234;;]\n",
      "cond(H) = 7.063115212292111e17\n",
      "norm(xhat - z) = 82.25862329521638\n",
      "norm(b - H * xhat) = 2.169910949333616e-15\n"
     ]
    }
   ],
   "source": [
    "for n in [4, 8, 12, 16]\n",
    "    z = ones(n,1)\n",
    "    H = generate_Hilbert(n)\n",
    "    b = H * z\n",
    "    xhat = H \\ b\n",
    "\n",
    "    @show n\n",
    "    @show xhat\n",
    "    @show cond(H)\n",
    "    @show norm(xhat - z)\n",
    "    @show norm(b - H * xhat)\n",
    "end"
   ]
  }
 ],
 "metadata": {
  "kernelspec": {
   "display_name": "Julia 1.10.0",
   "language": "julia",
   "name": "julia-1.10"
  },
  "language_info": {
   "file_extension": ".jl",
   "mimetype": "application/julia",
   "name": "julia",
   "version": "1.10.0"
  }
 },
 "nbformat": 4,
 "nbformat_minor": 2
}
