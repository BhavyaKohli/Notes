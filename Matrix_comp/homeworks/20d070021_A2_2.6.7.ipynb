{
 "cells": [
  {
   "cell_type": "code",
   "execution_count": 1,
   "metadata": {},
   "outputs": [
    {
     "data": {
      "text/plain": [
       "generate_Hilbert (generic function with 1 method)"
      ]
     },
     "metadata": {},
     "output_type": "display_data"
    }
   ],
   "source": [
    "using LinearAlgebra\n",
    "\n",
    "function generate_Hilbert(n)\n",
    "    H = zeros(Float64,n,n)\n",
    "    for i=1:n, j=1:n\n",
    "        H[i,j] = 1/(i+j-1)\n",
    "    end\n",
    "    return H\n",
    "end"
   ]
  },
  {
   "cell_type": "code",
   "execution_count": 2,
   "metadata": {},
   "outputs": [
    {
     "name": "stdout",
     "output_type": "stream",
     "text": [
      "norm(y) = 4.133453667673957e8"
     ]
    },
    {
     "name": "stdout",
     "output_type": "stream",
     "text": [
      "\n",
      "norm(b - z) = 1.1097989313130253e-8\n",
      "norm(xhat - y) / norm(y) = 0.08731924904012038\n",
      "norm(r) = 1.166943841254494e-8"
     ]
    },
    {
     "name": "stdout",
     "output_type": "stream",
     "text": [
      "\n",
      "upperbound = 5.930956622887766e7\n"
     ]
    },
    {
     "data": {
      "text/plain": [
       "5.930956622887766e7"
      ]
     },
     "metadata": {},
     "output_type": "display_data"
    }
   ],
   "source": [
    "H = generate_Hilbert(12)\n",
    "z = ones(12, 1)\n",
    "y = H \\ z\n",
    "@show norm(y)\n",
    "\n",
    "b = H * y\n",
    "@show norm(b - z)\n",
    "\n",
    "xhat = H \\ b\n",
    "@show norm(xhat - y) / norm(y)\n",
    "\n",
    "r = b - H * xhat\n",
    "@show norm(r)\n",
    "upperbound = cond(H) * norm(r) / norm(b)\n",
    "\n",
    "@show upperbound"
   ]
  },
  {
   "cell_type": "markdown",
   "metadata": {},
   "source": [
    "**Obseration** As mentioned in the book, this upper bound is highly pessimistic"
   ]
  },
  {
   "cell_type": "markdown",
   "metadata": {},
   "source": []
  }
 ],
 "metadata": {
  "kernelspec": {
   "display_name": "Julia 1.10.0",
   "language": "julia",
   "name": "julia-1.10"
  },
  "language_info": {
   "file_extension": ".jl",
   "mimetype": "application/julia",
   "name": "julia",
   "version": "1.10.0"
  }
 },
 "nbformat": 4,
 "nbformat_minor": 2
}
