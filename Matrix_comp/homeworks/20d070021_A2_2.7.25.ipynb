{
 "cells": [
  {
   "cell_type": "code",
   "execution_count": 4,
   "metadata": {},
   "outputs": [
    {
     "data": {
      "text/plain": [
       "infnorm (generic function with 1 method)"
      ]
     },
     "metadata": {},
     "output_type": "display_data"
    }
   ],
   "source": [
    "using LinearAlgebra\n",
    "using Random\n",
    "\n",
    "function LU_no_pivot(A_)\n",
    "    A = copy(A_)\n",
    "    n = size(A,1)\n",
    "    for k=1:n\n",
    "        @assert A[k,k] != 0\n",
    "        for i=k+1:n\n",
    "            A[i,k] /= A[k,k]\n",
    "        end\n",
    "\n",
    "        for j=k+1:n\n",
    "            for i=k+1:n\n",
    "                A[i,j] -= A[i,k] * A[k,j]\n",
    "            end\n",
    "        end\n",
    "    end\n",
    "    L = tril(A,-1) + UniformScaling(1)\n",
    "    U = triu(A)\n",
    "    return L, U\n",
    "end\n",
    "\n",
    "function LU_with_pivot(A_)\n",
    "    A = copy(A_)\n",
    "    n = size(A,1)\n",
    "    P = collect(1:n)\n",
    "    for k=1:n\n",
    "        imx=k-1 + argmax(abs.(A[k:end, k])) \n",
    "        for j=1:n\n",
    "            A[k,j], A[imx,j] = A[imx,j], A[k,j]\n",
    "        end\n",
    "        P[[k,imx]] = P[[imx,k]]\n",
    "\n",
    "        for i=k+1:n\n",
    "            A[i,k] /= A[k,k]\n",
    "        end\n",
    "\n",
    "        for j=k+1:n, i=k+1:n\n",
    "            A[i,j] -= A[i,k] * A[k,j]\n",
    "        end\n",
    "    end\n",
    "    L = tril(A,-1) + UniformScaling(1)\n",
    "    U = triu(A)\n",
    "    return L, U, P\n",
    "end\n",
    "\n",
    "function infnorm(A)\n",
    "    val = -Inf\n",
    "    n = size(A,1)\n",
    "    absA = abs.(A)\n",
    "    for i=1:n\n",
    "        current = sum(absA[i,:])\n",
    "        if current > val\n",
    "            val = current\n",
    "        end\n",
    "    end\n",
    "    \n",
    "    return val\n",
    "end"
   ]
  },
  {
   "cell_type": "code",
   "execution_count": 5,
   "metadata": {},
   "outputs": [
    {
     "name": "stdout",
     "output_type": "stream",
     "text": [
      "n = 2\n"
     ]
    },
    {
     "name": "stdout",
     "output_type": "stream",
     "text": [
      "infnorm(E) = 0.0\n",
      "infnorm(L) = 1.1663857657602004\n",
      "infnorm(U) = 1.3781250139565269\n"
     ]
    },
    {
     "name": "stdout",
     "output_type": "stream",
     "text": [
      "infnorm(E_pivot) = 0.0\n",
      "infnorm(L_pivot) = 1.1663857657602004\n",
      "infnorm(U_pivot) = 1.3781250139565269\n",
      "n = 40\n",
      "infnorm(E) = 8.545941732052142e-14\n",
      "infnorm(L) = 144.44651070407028\n",
      "infnorm(U) = 434.7496480561174\n",
      "infnorm(E_pivot) = 7.646661082105766e-15\n",
      "infnorm(L_pivot) = 16.814369777973127\n",
      "infnorm(U_pivot) = 24.045575748462262\n",
      "n = 80\n",
      "infnorm(E) = 2.418348507560175e-12\n",
      "infnorm(L) = 326.8684797375167\n",
      "infnorm(U) = 8259.709866123754\n",
      "infnorm(E_pivot) = 1.9456658506555868e-14\n",
      "infnorm(L_pivot) = 32.31663772874565\n",
      "infnorm(U_pivot) = 61.16765519833139\n",
      "n = 160\n",
      "infnorm(E) = 1.6023678694673804e-11\n",
      "infnorm(L) = 2251.6653379009313\n",
      "infnorm(U) = 55369.93591569343\n",
      "infnorm(E_pivot) = 6.916862915762323e-14\n",
      "infnorm(L_pivot) = 52.91841933025128\n",
      "infnorm(U_pivot) = 139.62030835789875\n"
     ]
    }
   ],
   "source": [
    "rng = MersenneTwister(15)\n",
    "Random.seed!(rng, 2018)\n",
    "\n",
    "for n in [2 40 80 160]\n",
    "    @show n\n",
    "    A = rand(rng,n,n)\n",
    "    L, U = LU_no_pivot(A)\n",
    "    E = L*U-A\n",
    "    @show infnorm(E)\n",
    "    @show infnorm(L)\n",
    "    @show infnorm(U)\n",
    "\n",
    "    L_pivot, U_pivot, P = LU_with_pivot(A)\n",
    "\n",
    "    E_pivot = L_pivot*U_pivot-A[P,:]\n",
    "    @show infnorm(E_pivot)\n",
    "    @show infnorm(L_pivot)\n",
    "    @show infnorm(U_pivot)\n",
    "end"
   ]
  },
  {
   "cell_type": "code",
   "execution_count": 6,
   "metadata": {},
   "outputs": [
    {
     "name": "stdout",
     "output_type": "stream",
     "text": [
      "n = 2\n",
      "infnorm(E) = 0.00033643967539376263\n",
      "infnorm(L) = 1.4986697453548855e13\n",
      "infnorm(U) = 1.0844158182564363e13\n",
      "infnorm(E_pivot) = 0.0\n",
      "infnorm(L_pivot) = 1.0000000000000668\n",
      "infnorm(U_pivot) = 0.8292727301154392\n",
      "n = 40\n",
      "infnorm(E) = 0.11286374855777984\n",
      "infnorm(L) = 1.0883811709335595e14\n",
      "infnorm(U) = 1.5221716507112908e15\n",
      "infnorm(E_pivot) = 6.8660355179162025e-15\n",
      "infnorm(L_pivot) = 16.583664216389188\n",
      "infnorm(U_pivot) = 24.045575748462262\n",
      "n = 80\n",
      "infnorm(E) = 0.2458957910758827\n",
      "infnorm(L) = 1.0451264069771825e14\n",
      "infnorm(U) = 7.549518830507906e13\n",
      "infnorm(E_pivot) = 2.1779453240888813e-14\n",
      "infnorm(L_pivot) = 30.146932200860544\n",
      "infnorm(U_pivot) = 61.16765519833139\n",
      "n = 160\n",
      "infnorm(E) = 1.9711629518300104\n",
      "infnorm(L) = 4.487678555148898e14\n",
      "infnorm(U) = 3.2438205689283976e16"
     ]
    },
    {
     "name": "stdout",
     "output_type": "stream",
     "text": [
      "\n",
      "infnorm(E_pivot) = 7.161111981179857e-14\n",
      "infnorm(L_pivot) = 54.62769034742324\n",
      "infnorm(U_pivot) = 139.62030835789875\n"
     ]
    }
   ],
   "source": [
    "rng = MersenneTwister(15)\n",
    "Random.seed!(rng, 2018)\n",
    "\n",
    "for n in [2 40 80 160]\n",
    "    @show n\n",
    "    A = rand(rng,n,n)\n",
    "    A[1,1] = 50*eps()*A[1,1]\n",
    "    L, U = LU_no_pivot(A)\n",
    "    E = L*U-A\n",
    "    @show infnorm(E)\n",
    "    @show infnorm(L)\n",
    "    @show infnorm(U)\n",
    "\n",
    "    L_pivot, U_pivot, P = LU_with_pivot(A)\n",
    "\n",
    "    E_pivot = L_pivot*U_pivot-A[P,:]\n",
    "    @show infnorm(E_pivot)\n",
    "    @show infnorm(L_pivot)\n",
    "    @show infnorm(U_pivot)\n",
    "end"
   ]
  },
  {
   "cell_type": "markdown",
   "metadata": {},
   "source": [
    "**Observations:** Without pivoting the errors blow up when pivots are close to float value limit"
   ]
  },
  {
   "cell_type": "markdown",
   "metadata": {},
   "source": []
  }
 ],
 "metadata": {
  "kernelspec": {
   "display_name": "Julia 1.10.0",
   "language": "julia",
   "name": "julia-1.10"
  },
  "language_info": {
   "file_extension": ".jl",
   "mimetype": "application/julia",
   "name": "julia",
   "version": "1.10.0"
  }
 },
 "nbformat": 4,
 "nbformat_minor": 2
}
