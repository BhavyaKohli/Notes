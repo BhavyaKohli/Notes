{
 "cells": [
  {
   "cell_type": "code",
   "execution_count": 46,
   "metadata": {},
   "outputs": [
    {
     "data": {
      "text/plain": [
       "5×5 Matrix{Float64}:\n",
       " 1.27611    0.0459402  0.305232   0.303874   0.110701\n",
       " 0.0459402  1.00764    0.0507863  0.0505604  0.018419\n",
       " 0.305232   0.0507863  1.33743    0.33593    0.122378\n",
       " 0.303874   0.0505604  0.33593    1.33444    0.121834\n",
       " 0.110701   0.018419   0.122378   0.121834   1.04438"
      ]
     },
     "metadata": {},
     "output_type": "display_data"
    }
   ],
   "source": [
    "using LinearAlgebra\n",
    "using Random\n",
    "\n",
    "rng = MersenneTwister(15)\n",
    "Random.seed!(rng, 2018)\n",
    "\n",
    "n = 5\n",
    "u = rand(rng,n)\n",
    "u /= norm(u)\n",
    "A = Matrix(I,n,n) + u * transpose(u)\n",
    "A0 = copy(A)"
   ]
  },
  {
   "cell_type": "code",
   "execution_count": 52,
   "metadata": {},
   "outputs": [],
   "source": [
    "function factorize_cholesky(A)\n",
    "    n = size(A,1)\n",
    "    for j=1:n\n",
    "        @show j\n",
    "        for k=1:j-1\n",
    "            @show k\n",
    "            for i=j:n\n",
    "                @show i\n",
    "                A[i,j] = A[i,j] - A[i,k] * A[j,k]\n",
    "            end\n",
    "        end\n",
    "\n",
    "        sqrt_ajj = sqrt(A[j,j])\n",
    "\n",
    "        for i=j:n\n",
    "            A[i,j] /= sqrt_ajj\n",
    "        end\n",
    "    end    \n",
    "    return A\n",
    "end\n",
    ";"
   ]
  },
  {
   "cell_type": "code",
   "execution_count": 63,
   "metadata": {},
   "outputs": [
    {
     "name": "stdout",
     "output_type": "stream",
     "text": [
      "j = 1\n",
      "j = 2\n",
      "k = 1\n",
      "i = 2\n",
      "i = 3\n",
      "i = 4\n",
      "i = 5\n",
      "j = 3\n",
      "k = 1\n",
      "i = 3\n",
      "i = 4\n",
      "i = 5\n",
      "k = 2\n",
      "i = 3\n",
      "i = 4\n",
      "i = 5\n",
      "j = 4\n",
      "k = 1\n",
      "i = 4\n",
      "i = 5\n",
      "k = 2\n",
      "i = 4\n",
      "i = 5\n",
      "k = 3\n",
      "i = 4\n",
      "i = 5\n",
      "j = 5\n",
      "k = 1\n",
      "i = 5\n",
      "k = 2\n",
      "i = 5\n",
      "k = 3\n",
      "i = 5\n",
      "k = 4\n",
      "i = 5\n"
     ]
    },
    {
     "data": {
      "text/plain": [
       "5×5 Matrix{Float64}:\n",
       " 1.12965    0.0        0.0        0.0        0.0\n",
       " 0.0406677  1.00299    0.0        0.0        0.0\n",
       " 0.270201   0.0396792  1.12376    0.0        0.0\n",
       " 0.268999   0.0395027  0.232859   1.09831    0.0\n",
       " 0.0979958  0.0143907  0.0848299  0.0684244  1.01128"
      ]
     },
     "metadata": {},
     "output_type": "display_data"
    }
   ],
   "source": [
    "A = copy(A0)\n",
    "A = factorize_cholesky(A)\n",
    "G = tril(A)\n",
    "G"
   ]
  },
  {
   "cell_type": "code",
   "execution_count": 81,
   "metadata": {},
   "outputs": [
    {
     "data": {
      "text/plain": [
       "0.04066765819462276"
      ]
     },
     "metadata": {},
     "output_type": "display_data"
    }
   ],
   "source": [
    "g11 = sqrt(A0[1,1])\n",
    "g21 = A0[2,1] / sqrt(A0[1,1])"
   ]
  },
  {
   "cell_type": "code",
   "execution_count": 82,
   "metadata": {},
   "outputs": [
    {
     "data": {
      "text/plain": [
       "0.04066765819462276"
      ]
     },
     "metadata": {},
     "output_type": "display_data"
    }
   ],
   "source": [
    "G[2,1]"
   ]
  },
  {
   "cell_type": "code",
   "execution_count": 83,
   "metadata": {},
   "outputs": [
    {
     "data": {
      "text/plain": [
       "1.0029904944939403"
      ]
     },
     "metadata": {},
     "output_type": "display_data"
    }
   ],
   "source": [
    "sqrt(A0[2,2] - a21 * a21)"
   ]
  },
  {
   "cell_type": "code",
   "execution_count": 84,
   "metadata": {},
   "outputs": [
    {
     "data": {
      "text/plain": [
       "1.0029904944939405"
      ]
     },
     "metadata": {},
     "output_type": "display_data"
    }
   ],
   "source": [
    "G[2,2]"
   ]
  },
  {
   "cell_type": "code",
   "execution_count": 88,
   "metadata": {},
   "outputs": [
    {
     "data": {
      "text/plain": [
       "1.1296487838806142"
      ]
     },
     "metadata": {},
     "output_type": "display_data"
    }
   ],
   "source": [
    "g11"
   ]
  },
  {
   "cell_type": "code",
   "execution_count": 89,
   "metadata": {},
   "outputs": [
    {
     "data": {
      "text/plain": [
       "1.1296487838806142"
      ]
     },
     "metadata": {},
     "output_type": "display_data"
    }
   ],
   "source": [
    "G[1,1]"
   ]
  },
  {
   "cell_type": "code",
   "execution_count": 90,
   "metadata": {},
   "outputs": [
    {
     "data": {
      "text/plain": [
       "0.039679208129049494"
      ]
     },
     "metadata": {},
     "output_type": "display_data"
    }
   ],
   "source": [
    "g31 = A0[3,1] / sqrt(A0[1,1])\n",
    "g32 = (A0[3,2] - g31*g21) / sqrt(A0[2,2]-g21^2)"
   ]
  },
  {
   "cell_type": "code",
   "execution_count": 91,
   "metadata": {},
   "outputs": [
    {
     "data": {
      "text/plain": [
       "0.039679208129049494"
      ]
     },
     "metadata": {},
     "output_type": "display_data"
    }
   ],
   "source": [
    "G[3,2]"
   ]
  }
 ],
 "metadata": {
  "kernelspec": {
   "display_name": "Julia 1.10.0",
   "language": "julia",
   "name": "julia-1.10"
  },
  "language_info": {
   "file_extension": ".jl",
   "mimetype": "application/julia",
   "name": "julia",
   "version": "1.10.0"
  }
 },
 "nbformat": 4,
 "nbformat_minor": 2
}
