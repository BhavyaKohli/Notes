{
 "cells": [
  {
   "cell_type": "code",
   "execution_count": 1,
   "metadata": {},
   "outputs": [],
   "source": [
    "from sympy import *"
   ]
  },
  {
   "cell_type": "code",
   "execution_count": 2,
   "metadata": {},
   "outputs": [
    {
     "data": {
      "text/latex": [
       "$\\displaystyle u_{1, 0}^{2} + 1$"
      ],
      "text/plain": [
       "u[1, 0]**2 + 1"
      ]
     },
     "execution_count": 2,
     "metadata": {},
     "output_type": "execute_result"
    }
   ],
   "source": [
    "u = MatrixSymbol('u', 6, 1)\n",
    "A = Identity(6) + u * u.T\n",
    "\n",
    "A[1,1]"
   ]
  },
  {
   "cell_type": "code",
   "execution_count": 3,
   "metadata": {},
   "outputs": [
    {
     "data": {
      "text/latex": [
       "$\\displaystyle \\sqrt{\\frac{u_{1, 0}^{2} + u_{2, 0}^{2} + 1}{u_{1, 0}^{2} + 1}}$"
      ],
      "text/plain": [
       "sqrt((u[1, 0]**2 + u[2, 0]**2 + 1)/(u[1, 0]**2 + 1))"
      ]
     },
     "execution_count": 3,
     "metadata": {},
     "output_type": "execute_result"
    }
   ],
   "source": [
    "u = MatrixSymbol('u', 6, 1)\n",
    "A = Identity(6) + u * u.T\n",
    "\n",
    "g11 = sqrt(A[1,1])\n",
    "g21 = A[2,1] / g11\n",
    "g31 = A[3,1] / g11\n",
    "g41 = A[4,1] / g11\n",
    "\n",
    "g22 = sqrt(A[2,2] - g21**2)\n",
    "g22 = simplify(g22)\n",
    "g22"
   ]
  },
  {
   "cell_type": "code",
   "execution_count": 4,
   "metadata": {},
   "outputs": [
    {
     "data": {
      "text/latex": [
       "$\\displaystyle \\frac{u_{2, 0} u_{3, 0}}{\\sqrt{\\frac{u_{1, 0}^{2} + u_{2, 0}^{2} + 1}{u_{1, 0}^{2} + 1}} \\left(u_{1, 0}^{2} + 1\\right)}$"
      ],
      "text/plain": [
       "u[2, 0]*u[3, 0]/(sqrt((u[1, 0]**2 + u[2, 0]**2 + 1)/(u[1, 0]**2 + 1))*(u[1, 0]**2 + 1))"
      ]
     },
     "execution_count": 4,
     "metadata": {},
     "output_type": "execute_result"
    }
   ],
   "source": [
    "g32 = simplify((A[3,2] - g31 * g21)/ g22)\n",
    "g32"
   ]
  },
  {
   "cell_type": "code",
   "execution_count": 5,
   "metadata": {},
   "outputs": [
    {
     "data": {
      "text/latex": [
       "$\\displaystyle \\frac{u_{2, 0} u_{4, 0}}{\\sqrt{\\frac{u_{1, 0}^{2} + u_{2, 0}^{2} + 1}{u_{1, 0}^{2} + 1}} \\left(u_{1, 0}^{2} + 1\\right)}$"
      ],
      "text/plain": [
       "u[2, 0]*u[4, 0]/(sqrt((u[1, 0]**2 + u[2, 0]**2 + 1)/(u[1, 0]**2 + 1))*(u[1, 0]**2 + 1))"
      ]
     },
     "execution_count": 5,
     "metadata": {},
     "output_type": "execute_result"
    }
   ],
   "source": [
    "g42 = simplify((A[4,2] - g41*g21) / g22)\n",
    "g42"
   ]
  },
  {
   "cell_type": "code",
   "execution_count": 6,
   "metadata": {},
   "outputs": [
    {
     "data": {
      "text/latex": [
       "$\\displaystyle \\sqrt{\\frac{u_{1, 0}^{2} + u_{2, 0}^{2} + u_{3, 0}^{2} + 1}{u_{1, 0}^{2} + u_{2, 0}^{2} + 1}}$"
      ],
      "text/plain": [
       "sqrt((u[1, 0]**2 + u[2, 0]**2 + u[3, 0]**2 + 1)/(u[1, 0]**2 + u[2, 0]**2 + 1))"
      ]
     },
     "execution_count": 6,
     "metadata": {},
     "output_type": "execute_result"
    }
   ],
   "source": [
    "g33 = sqrt(simplify(A[3,3] - simplify(g31**2 + g32**2)))\n",
    "g33"
   ]
  },
  {
   "cell_type": "code",
   "execution_count": 7,
   "metadata": {},
   "outputs": [
    {
     "data": {
      "text/latex": [
       "$\\displaystyle \\frac{u_{1, 0}^{2} u_{3, 0} u_{4, 0}}{u_{1, 0}^{2} + 1}$"
      ],
      "text/plain": [
       "u[1, 0]**2*u[3, 0]*u[4, 0]/(u[1, 0]**2 + 1)"
      ]
     },
     "execution_count": 7,
     "metadata": {},
     "output_type": "execute_result"
    }
   ],
   "source": [
    "g41*g31"
   ]
  },
  {
   "cell_type": "code",
   "execution_count": 8,
   "metadata": {},
   "outputs": [
    {
     "data": {
      "text/latex": [
       "$\\displaystyle \\frac{u_{2, 0}^{2} u_{3, 0} u_{4, 0}}{\\left(u_{1, 0}^{2} + 1\\right) \\left(u_{1, 0}^{2} + u_{2, 0}^{2} + 1\\right)}$"
      ],
      "text/plain": [
       "u[2, 0]**2*u[3, 0]*u[4, 0]/((u[1, 0]**2 + 1)*(u[1, 0]**2 + u[2, 0]**2 + 1))"
      ]
     },
     "execution_count": 8,
     "metadata": {},
     "output_type": "execute_result"
    }
   ],
   "source": [
    "simplify(g42*g32)"
   ]
  },
  {
   "cell_type": "code",
   "execution_count": 9,
   "metadata": {},
   "outputs": [
    {
     "data": {
      "text/latex": [
       "$\\displaystyle \\frac{u_{3, 0} u_{4, 0}}{\\sqrt{\\frac{u_{1, 0}^{2} + u_{2, 0}^{2} + u_{3, 0}^{2} + 1}{u_{1, 0}^{2} + u_{2, 0}^{2} + 1}} \\left(u_{1, 0}^{2} + u_{2, 0}^{2} + 1\\right)}$"
      ],
      "text/plain": [
       "u[3, 0]*u[4, 0]/(sqrt((u[1, 0]**2 + u[2, 0]**2 + u[3, 0]**2 + 1)/(u[1, 0]**2 + u[2, 0]**2 + 1))*(u[1, 0]**2 + u[2, 0]**2 + 1))"
      ]
     },
     "execution_count": 9,
     "metadata": {},
     "output_type": "execute_result"
    }
   ],
   "source": [
    "g43 = simplify((A[4,3] - simplify(g41*g31 + simplify(g42*g32))) / g33)\n",
    "g43"
   ]
  },
  {
   "cell_type": "code",
   "execution_count": 10,
   "metadata": {},
   "outputs": [
    {
     "data": {
      "text/latex": [
       "$\\displaystyle \\sqrt{u_{1, 0}^{2} + 1}$"
      ],
      "text/plain": [
       "sqrt(u[1, 0]**2 + 1)"
      ]
     },
     "metadata": {},
     "output_type": "display_data"
    },
    {
     "data": {
      "text/latex": [
       "$\\displaystyle \\sqrt{\\frac{u_{1, 0}^{2} + u_{2, 0}^{2} + 1}{u_{1, 0}^{2} + 1}}$"
      ],
      "text/plain": [
       "sqrt((u[1, 0]**2 + u[2, 0]**2 + 1)/(u[1, 0]**2 + 1))"
      ]
     },
     "metadata": {},
     "output_type": "display_data"
    },
    {
     "data": {
      "text/latex": [
       "$\\displaystyle \\sqrt{\\frac{u_{1, 0}^{2} + u_{2, 0}^{2} + u_{3, 0}^{2} + 1}{u_{1, 0}^{2} + u_{2, 0}^{2} + 1}}$"
      ],
      "text/plain": [
       "sqrt((u[1, 0]**2 + u[2, 0]**2 + u[3, 0]**2 + 1)/(u[1, 0]**2 + u[2, 0]**2 + 1))"
      ]
     },
     "metadata": {},
     "output_type": "display_data"
    },
    {
     "data": {
      "text/plain": [
       "(None, None, None)"
      ]
     },
     "execution_count": 10,
     "metadata": {},
     "output_type": "execute_result"
    }
   ],
   "source": [
    "display(g11), display(g22), display(g33)"
   ]
  },
  {
   "cell_type": "code",
   "execution_count": 11,
   "metadata": {},
   "outputs": [
    {
     "data": {
      "text/latex": [
       "$\\displaystyle \\frac{u_{1, 0} u_{2, 0}}{\\sqrt{u_{1, 0}^{2} + 1}}$"
      ],
      "text/plain": [
       "u[1, 0]*u[2, 0]/sqrt(u[1, 0]**2 + 1)"
      ]
     },
     "metadata": {},
     "output_type": "display_data"
    },
    {
     "data": {
      "text/latex": [
       "$\\displaystyle \\frac{u_{2, 0} u_{3, 0}}{\\sqrt{\\frac{u_{1, 0}^{2} + u_{2, 0}^{2} + 1}{u_{1, 0}^{2} + 1}} \\left(u_{1, 0}^{2} + 1\\right)}$"
      ],
      "text/plain": [
       "u[2, 0]*u[3, 0]/(sqrt((u[1, 0]**2 + u[2, 0]**2 + 1)/(u[1, 0]**2 + 1))*(u[1, 0]**2 + 1))"
      ]
     },
     "metadata": {},
     "output_type": "display_data"
    },
    {
     "data": {
      "text/latex": [
       "$\\displaystyle \\frac{u_{3, 0} u_{4, 0}}{\\sqrt{\\frac{u_{1, 0}^{2} + u_{2, 0}^{2} + u_{3, 0}^{2} + 1}{u_{1, 0}^{2} + u_{2, 0}^{2} + 1}} \\left(u_{1, 0}^{2} + u_{2, 0}^{2} + 1\\right)}$"
      ],
      "text/plain": [
       "u[3, 0]*u[4, 0]/(sqrt((u[1, 0]**2 + u[2, 0]**2 + u[3, 0]**2 + 1)/(u[1, 0]**2 + u[2, 0]**2 + 1))*(u[1, 0]**2 + u[2, 0]**2 + 1))"
      ]
     },
     "metadata": {},
     "output_type": "display_data"
    },
    {
     "data": {
      "text/plain": [
       "(None, None, None)"
      ]
     },
     "execution_count": 11,
     "metadata": {},
     "output_type": "execute_result"
    }
   ],
   "source": [
    "display(g21), display(g32), display(g43)"
   ]
  }
 ],
 "metadata": {
  "kernelspec": {
   "display_name": "Python 3",
   "language": "python",
   "name": "python3"
  },
  "language_info": {
   "codemirror_mode": {
    "name": "ipython",
    "version": 3
   },
   "file_extension": ".py",
   "mimetype": "text/x-python",
   "name": "python",
   "nbconvert_exporter": "python",
   "pygments_lexer": "ipython3",
   "version": "3.8.6"
  }
 },
 "nbformat": 4,
 "nbformat_minor": 2
}
