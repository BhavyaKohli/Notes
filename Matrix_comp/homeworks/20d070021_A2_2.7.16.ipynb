{
 "cells": [
  {
   "cell_type": "code",
   "execution_count": 1,
   "metadata": {},
   "outputs": [
    {
     "data": {
      "text/plain": [
       "LU_with_pivot (generic function with 1 method)"
      ]
     },
     "metadata": {},
     "output_type": "display_data"
    }
   ],
   "source": [
    "using LinearAlgebra\n",
    "using Random\n",
    "\n",
    "function LU_with_pivot(A_)\n",
    "    A = copy(A_)\n",
    "    n = size(A,1)\n",
    "    P = collect(1:n)\n",
    "    for k=1:n\n",
    "        imx=k-1 + argmax(abs.(A[k:end, k])) \n",
    "        for j=1:n\n",
    "            A[k,j], A[imx,j] = A[imx,j], A[k,j]\n",
    "        end\n",
    "        P[[k,imx]] = P[[imx,k]]\n",
    "\n",
    "        for i=k+1:n\n",
    "            A[i,k] /= A[k,k]\n",
    "        end\n",
    "\n",
    "        for j=k+1:n, i=k+1:n\n",
    "            A[i,j] -= A[i,k] * A[k,j]\n",
    "        end\n",
    "    end\n",
    "    L = tril(A,-1) + UniformScaling(1)\n",
    "    U = triu(A)\n",
    "    return L, U, P\n",
    "end"
   ]
  },
  {
   "cell_type": "code",
   "execution_count": 2,
   "metadata": {},
   "outputs": [
    {
     "data": {
      "text/plain": [
       "infnorm (generic function with 1 method)"
      ]
     },
     "metadata": {},
     "output_type": "display_data"
    }
   ],
   "source": [
    "function generate_Hilbert(n)\n",
    "    H = zeros(Float64,n,n)\n",
    "    for i=1:n, j=1:n\n",
    "        H[i,j] = 1/(i+j-1)\n",
    "    end\n",
    "    return H\n",
    "end\n",
    "\n",
    "function generate_Lotkin(n)\n",
    "    HL = generate_Hilbert(n)\n",
    "    HL[1,:] .= 1\n",
    "    return HL\n",
    "end\n",
    "\n",
    "function infnorm(A)\n",
    "    val = -Inf\n",
    "    n = size(A,1)\n",
    "    absA = abs.(A)\n",
    "    for i=1:n\n",
    "        current = sum(absA[i,:])\n",
    "        if current > val\n",
    "            val = current\n",
    "        end\n",
    "    end\n",
    "    \n",
    "    return val\n",
    "end"
   ]
  },
  {
   "cell_type": "code",
   "execution_count": 3,
   "metadata": {},
   "outputs": [
    {
     "name": "stdout",
     "output_type": "stream",
     "text": [
      "n = 12\n",
      "infnorm(E) = 1.5265566588595902e-16\n",
      "infnorm(L) = 5.635866186964082\n",
      "infnorm(U) = 3.103210678210678\n",
      "infnorm(E) / infnorm(A) = 4.919281406120348e-17\n",
      "(infnorm(L) * infnorm(U)) / infnorm(A) = 5.635866186964082\n",
      "n = 24\n",
      "infnorm(E) = 1.3877787807814457e-16\n",
      "infnorm(L) = 11.65727459273066\n",
      "infnorm(U) = 3.775958177753507\n",
      "infnorm(E) / infnorm(A) = 3.675302308584095e-17\n",
      "(infnorm(L) * infnorm(U)) / infnorm(A) = 11.657274592730662\n",
      "n = 48\n",
      "infnorm(E) = 2.5673907444456745e-16\n",
      "infnorm(L) = 17.90666101329748\n",
      "infnorm(U) = 4.4587971750641175\n",
      "infnorm(E) / infnorm(A) = 5.758034383810597e-17\n",
      "(infnorm(L) * infnorm(U)) / infnorm(A) = 17.90666101329748\n"
     ]
    }
   ],
   "source": [
    "for n in [12 24 48]\n",
    "    @show n\n",
    "    A = generate_Hilbert(n)\n",
    "\n",
    "    L, U, P = LU_with_pivot(A)\n",
    "    E = L*U-A[P,:]\n",
    "    @show infnorm(E)\n",
    "    @show infnorm(L)\n",
    "    @show infnorm(U)\n",
    "    @show infnorm(E) / infnorm(A)\n",
    "    @show infnorm(L) * infnorm(U) / infnorm(A)\n",
    "end "
   ]
  },
  {
   "cell_type": "code",
   "execution_count": 4,
   "metadata": {},
   "outputs": [
    {
     "name": "stdout",
     "output_type": "stream",
     "text": [
      "n = 12\n",
      "infnorm(E) = 1.3877787807814457e-16\n",
      "infnorm(L) = 5.963958912450569\n",
      "infnorm(U) = 12.0\n",
      "infnorm(E) / infnorm(A) = 1.1564823173178714e-17\n",
      "(infnorm(L) * infnorm(U)) / infnorm(A) = 5.963958912450569\n",
      "n = 24\n",
      "infnorm(E) = 3.3306690738754696e-16\n",
      "infnorm(L) = 8.787691881082493\n",
      "infnorm(U) = 24.0\n",
      "infnorm(E) / infnorm(A) = 1.3877787807814457e-17\n",
      "(infnorm(L) * infnorm(U)) / infnorm(A) = 8.787691881082493\n",
      "n = 48\n",
      "infnorm(E) = 7.112366251504909e-16\n",
      "infnorm(L) = 16.088232209523365\n",
      "infnorm(U) = 48.0\n",
      "infnorm(E) / infnorm(A) = 1.4817429690635226e-17\n",
      "(infnorm(L) * infnorm(U)) / infnorm(A) = 16.088232209523365\n"
     ]
    }
   ],
   "source": [
    "for n in [12 24 48]\n",
    "    @show n\n",
    "    A = generate_Lotkin(n)\n",
    "\n",
    "    L, U, P = LU_with_pivot(A)\n",
    "    E = L*U-A[P,:]\n",
    "    @show infnorm(E)\n",
    "    @show infnorm(L)\n",
    "    @show infnorm(U)\n",
    "    @show infnorm(E) / infnorm(A)\n",
    "    @show infnorm(L) * infnorm(U) / infnorm(A)\n",
    "end "
   ]
  },
  {
   "cell_type": "markdown",
   "metadata": {},
   "source": [
    "**Observations:** Relative backward error is low => backward stability => algo is stable"
   ]
  },
  {
   "cell_type": "markdown",
   "metadata": {},
   "source": []
  }
 ],
 "metadata": {
  "kernelspec": {
   "display_name": "Julia 1.10.0",
   "language": "julia",
   "name": "julia-1.10"
  },
  "language_info": {
   "file_extension": ".jl",
   "mimetype": "application/julia",
   "name": "julia",
   "version": "1.10.0"
  }
 },
 "nbformat": 4,
 "nbformat_minor": 2
}
