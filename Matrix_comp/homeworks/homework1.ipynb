{
 "cells": [
  {
   "cell_type": "code",
   "execution_count": 1,
   "metadata": {},
   "outputs": [
    {
     "data": {
      "text/plain": [
       "\"Residual:\""
      ]
     },
     "metadata": {},
     "output_type": "display_data"
    },
    {
     "data": {
      "text/plain": [
       "7-element Vector{Float64}:\n",
       " -1.4210854715202004e-14\n",
       "  1.4210854715202004e-14\n",
       " -5.329070518200751e-15\n",
       "  1.0658141036401503e-14\n",
       " -1.4210854715202004e-14\n",
       "  7.105427357601002e-15\n",
       "  1.7763568394002505e-15"
      ]
     },
     "metadata": {},
     "output_type": "display_data"
    },
    {
     "data": {
      "text/plain": [
       "\"Condition No.:\""
      ]
     },
     "metadata": {},
     "output_type": "display_data"
    },
    {
     "data": {
      "text/plain": [
       "33.96244580070603"
      ]
     },
     "metadata": {},
     "output_type": "display_data"
    }
   ],
   "source": [
    "# Watkins Ch2; Exercise 2.4.3\n",
    "\n",
    "using LinearAlgebra\n",
    "\n",
    "A = [6 -1 0 -5 0 0 0; -2 9 -5 0 -2 0 0; 0 -1 3 0 0 -2 0; -2 0 0 5 -2 0 -1; 0 -1 0 -5 12 -1 0; 0 0 -10 0 -2 17 0; 0 0 0 -1 0 0 2]\n",
    "b = [0; 0; 0; 0; 45; 0; 9]\n",
    "\n",
    "x = inv(A) * b\n",
    "residual = b - A * x\n",
    "display(\"Residual:\")\n",
    "display(residual)\n",
    "\n",
    "condition_number = cond(A)\n",
    "display(\"Condition No.:\")\n",
    "display(condition_number)"
   ]
  },
  {
   "cell_type": "code",
   "execution_count": 2,
   "metadata": {},
   "outputs": [
    {
     "data": {
      "text/plain": [
       "1.1102230246251565e-16"
      ]
     },
     "metadata": {},
     "output_type": "display_data"
    },
    {
     "data": {
      "text/plain": [
       "53"
      ]
     },
     "metadata": {},
     "output_type": "display_data"
    }
   ],
   "source": [
    "# Watkins Ch2; Exercise 2.5.10 (a)\n",
    "\n",
    "a = 1\n",
    "u = 1\n",
    "b = a + u\n",
    "\n",
    "i = 0\n",
    "while b != a\n",
    "    u = 0.5 * u\n",
    "    b = a + u\n",
    "    i = i + 1\n",
    "end\n",
    "\n",
    "display(u)\n",
    "display(i)"
   ]
  },
  {
   "cell_type": "code",
   "execution_count": 15,
   "metadata": {},
   "outputs": [
    {
     "data": {
      "text/plain": [
       "309"
      ]
     },
     "metadata": {},
     "output_type": "display_data"
    }
   ],
   "source": [
    "# Watkins Ch2; Exercise 2.5.10 (b)\n",
    "a = 1.0\n",
    "\n",
    "i = 0\n",
    "while a != Inf\n",
    "    a = 10 * a\n",
    "    i = i + 1\n",
    "end\n",
    "\n",
    "display(i)"
   ]
  },
  {
   "cell_type": "code",
   "execution_count": 4,
   "metadata": {},
   "outputs": [
    {
     "data": {
      "text/plain": [
       "324"
      ]
     },
     "metadata": {},
     "output_type": "display_data"
    }
   ],
   "source": [
    "# Watkins Ch2; Exercise 2.5.10 (c)\n",
    "a = 1\n",
    "\n",
    "i = 0\n",
    "while a != 0\n",
    "    a = 0.1 * a\n",
    "    i = i + 1\n",
    "end\n",
    "\n",
    "display(i)"
   ]
  },
  {
   "cell_type": "code",
   "execution_count": 31,
   "metadata": {},
   "outputs": [
    {
     "data": {
      "text/plain": [
       "5×5 Matrix{Float64}:\n",
       " 1.0   0.0    2.0    7.0   6.0\n",
       " 8.0   2.0   25.0   65.0  51.0\n",
       " 0.0  14.0   66.0   68.0  25.0\n",
       " 4.0  16.0  107.0  149.0  85.0\n",
       " 3.0   2.0   30.0   83.0  53.0"
      ]
     },
     "metadata": {},
     "output_type": "display_data"
    }
   ],
   "source": [
    "# Watkins Ch1; Exercise 1.7.43: in-place LU factorization\n",
    "\n",
    "using LinearAlgebra\n",
    "using Random\n",
    "rng = MersenneTwister(5);\n",
    "\n",
    "Random.seed!(rng, 2018)\n",
    "\n",
    "n = 5;\n",
    "\n",
    "L = zeros(Float64,n,n)\n",
    "U = zeros(Float64,n,n)\n",
    "for i=1:n    \n",
    "    U[i,i] = i\n",
    "    U[i,i+1:n] = rand(rng, 0:9, n-i)\n",
    "    L[i,1:i] = rand(rng, 0:9, i)\n",
    "    L[i,i] = 1\n",
    "end\n",
    "A = L*U"
   ]
  },
  {
   "cell_type": "code",
   "execution_count": 32,
   "metadata": {},
   "outputs": [],
   "source": [
    "for k=1:n\n",
    "    for j=k+1:n\n",
    "        for i=k+1:n\n",
    "            A[i,j] = A[i,j] - (A[i,k] / A[k,k]) * A[k,j]\n",
    "        end\n",
    "    end\n",
    "end"
   ]
  },
  {
   "cell_type": "code",
   "execution_count": 34,
   "metadata": {},
   "outputs": [
    {
     "data": {
      "text/plain": [
       "5×5 Matrix{Float64}:\n",
       " 1.0   0.0   0.0   0.0  0.0\n",
       " 8.0   2.0   0.0   0.0  0.0\n",
       " 0.0  14.0   3.0   0.0  0.0\n",
       " 4.0  16.0  27.0   4.0  0.0\n",
       " 3.0   2.0  15.0  28.0  5.0"
      ]
     },
     "metadata": {},
     "output_type": "display_data"
    },
    {
     "data": {
      "text/plain": [
       "5×5 Diagonal{Float64, Vector{Float64}}:\n",
       " 1.0   ⋅    ⋅    ⋅    ⋅ \n",
       "  ⋅   2.0   ⋅    ⋅    ⋅ \n",
       "  ⋅    ⋅   3.0   ⋅    ⋅ \n",
       "  ⋅    ⋅    ⋅   4.0   ⋅ \n",
       "  ⋅    ⋅    ⋅    ⋅   5.0"
      ]
     },
     "metadata": {},
     "output_type": "display_data"
    },
    {
     "data": {
      "text/plain": [
       "5×5 Matrix{Float64}:\n",
       " 1.0  0.0  2.0  7.0  6.0\n",
       " 0.0  2.0  9.0  9.0  3.0\n",
       " 0.0  0.0  3.0  5.0  4.0\n",
       " 0.0  0.0  0.0  4.0  1.0\n",
       " 0.0  0.0  0.0  0.0  5.0"
      ]
     },
     "metadata": {},
     "output_type": "display_data"
    }
   ],
   "source": [
    "D = Diagonal(diag(A))\n",
    "M = tril(A)\n",
    "U = triu(A)\n",
    "\n",
    "display(M)\n",
    "display(D)\n",
    "display(U)\n",
    "\n",
    "@assert M * inv(D) * U == L * U"
   ]
  },
  {
   "cell_type": "code",
   "execution_count": 4,
   "metadata": {},
   "outputs": [
    {
     "data": {
      "text/plain": [
       "5×5 Matrix{Int64}:\n",
       " 1  0  0  0   1\n",
       " 0  1  0  0   2\n",
       " 0  0  1  0   4\n",
       " 0  0  0  1   8\n",
       " 0  0  0  0  16"
      ]
     },
     "metadata": {},
     "output_type": "display_data"
    },
    {
     "data": {
      "text/plain": [
       "5×5 Matrix{Float64}:\n",
       "  1.0   0.0   0.0   0.0  1.0\n",
       " -1.0   1.0   0.0   0.0  1.0\n",
       " -1.0  -1.0   1.0   0.0  1.0\n",
       " -1.0  -1.0  -1.0   1.0  1.0\n",
       " -1.0  -1.0  -1.0  -1.0  1.0"
      ]
     },
     "metadata": {},
     "output_type": "display_data"
    }
   ],
   "source": [
    "# Wooters Ch3; Q12\n",
    "\n",
    "using LinearAlgebra\n",
    "\n",
    "A = [1 0 0 0 1; -1 1 0 0 1; -1 -1 1 0 1; -1 -1 -1 1 1; -1 -1 -1 -1 1]\n",
    "n = 5\n",
    "\n",
    "for k=1:n\n",
    "    for j=k+1:n\n",
    "        for i=k+1:n\n",
    "            A[i,j] = A[i,j] - (A[i,k] / A[k,k]) * A[k,j]\n",
    "        end\n",
    "    end\n",
    "end\n",
    "\n",
    "D = Diagonal(diag(A))\n",
    "M = tril(A)\n",
    "U = triu(A)\n",
    "L = M * inv(D)\n",
    "\n",
    "display(U)\n",
    "display(L*U)"
   ]
  },
  {
   "cell_type": "code",
   "execution_count": null,
   "metadata": {},
   "outputs": [],
   "source": []
  }
 ],
 "metadata": {
  "kernelspec": {
   "display_name": "Julia 1.10.0",
   "language": "julia",
   "name": "julia-1.10"
  },
  "language_info": {
   "file_extension": ".jl",
   "mimetype": "application/julia",
   "name": "julia",
   "version": "1.10.0"
  }
 },
 "nbformat": 4,
 "nbformat_minor": 2
}
